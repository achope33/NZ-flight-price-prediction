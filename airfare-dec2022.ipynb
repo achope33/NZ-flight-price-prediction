{
 "cells": [
  {
   "cell_type": "code",
   "execution_count": 1,
   "id": "c9b8c3c7",
   "metadata": {},
   "outputs": [
    {
     "name": "stdout",
     "output_type": "stream",
     "text": [
      "Requirement already satisfied: numpy in c:\\users\\alexchen\\anaconda3\\envs\\nzairefare\\lib\\site-packages (1.24.1)\n",
      "Requirement already satisfied: pandas in c:\\users\\alexchen\\anaconda3\\envs\\nzairefare\\lib\\site-packages (1.5.2)\n",
      "Requirement already satisfied: numpy>=1.21.0 in c:\\users\\alexchen\\anaconda3\\envs\\nzairefare\\lib\\site-packages (from pandas) (1.24.1)\n",
      "Requirement already satisfied: python-dateutil>=2.8.1 in c:\\users\\alexchen\\anaconda3\\envs\\nzairefare\\lib\\site-packages (from pandas) (2.8.2)\n",
      "Requirement already satisfied: pytz>=2020.1 in c:\\users\\alexchen\\anaconda3\\envs\\nzairefare\\lib\\site-packages (from pandas) (2022.7)\n",
      "Requirement already satisfied: six>=1.5 in c:\\users\\alexchen\\anaconda3\\envs\\nzairefare\\lib\\site-packages (from python-dateutil>=2.8.1->pandas) (1.16.0)\n",
      "Requirement already satisfied: matplotlib in c:\\users\\alexchen\\anaconda3\\envs\\nzairefare\\lib\\site-packages (3.6.2)\n",
      "Requirement already satisfied: numpy>=1.19 in c:\\users\\alexchen\\anaconda3\\envs\\nzairefare\\lib\\site-packages (from matplotlib) (1.24.1)\n",
      "Requirement already satisfied: fonttools>=4.22.0 in c:\\users\\alexchen\\anaconda3\\envs\\nzairefare\\lib\\site-packages (from matplotlib) (4.38.0)\n",
      "Requirement already satisfied: packaging>=20.0 in c:\\users\\alexchen\\anaconda3\\envs\\nzairefare\\lib\\site-packages (from matplotlib) (22.0)\n",
      "Requirement already satisfied: pillow>=6.2.0 in c:\\users\\alexchen\\anaconda3\\envs\\nzairefare\\lib\\site-packages (from matplotlib) (9.3.0)\n",
      "Requirement already satisfied: contourpy>=1.0.1 in c:\\users\\alexchen\\anaconda3\\envs\\nzairefare\\lib\\site-packages (from matplotlib) (1.0.6)\n",
      "Requirement already satisfied: python-dateutil>=2.7 in c:\\users\\alexchen\\anaconda3\\envs\\nzairefare\\lib\\site-packages (from matplotlib) (2.8.2)\n",
      "Requirement already satisfied: kiwisolver>=1.0.1 in c:\\users\\alexchen\\anaconda3\\envs\\nzairefare\\lib\\site-packages (from matplotlib) (1.4.4)\n",
      "Requirement already satisfied: cycler>=0.10 in c:\\users\\alexchen\\anaconda3\\envs\\nzairefare\\lib\\site-packages (from matplotlib) (0.11.0)\n",
      "Requirement already satisfied: pyparsing>=2.2.1 in c:\\users\\alexchen\\anaconda3\\envs\\nzairefare\\lib\\site-packages (from matplotlib) (3.0.9)\n",
      "Requirement already satisfied: six>=1.5 in c:\\users\\alexchen\\anaconda3\\envs\\nzairefare\\lib\\site-packages (from python-dateutil>=2.7->matplotlib) (1.16.0)\n",
      "Requirement already satisfied: seaborn in c:\\users\\alexchen\\anaconda3\\envs\\nzairefare\\lib\\site-packages (0.12.1)\n",
      "Requirement already satisfied: numpy>=1.17 in c:\\users\\alexchen\\anaconda3\\envs\\nzairefare\\lib\\site-packages (from seaborn) (1.24.1)\n",
      "Requirement already satisfied: pandas>=0.25 in c:\\users\\alexchen\\anaconda3\\envs\\nzairefare\\lib\\site-packages (from seaborn) (1.5.2)\n",
      "Requirement already satisfied: matplotlib!=3.6.1,>=3.1 in c:\\users\\alexchen\\anaconda3\\envs\\nzairefare\\lib\\site-packages (from seaborn) (3.6.2)\n",
      "Requirement already satisfied: cycler>=0.10 in c:\\users\\alexchen\\anaconda3\\envs\\nzairefare\\lib\\site-packages (from matplotlib!=3.6.1,>=3.1->seaborn) (0.11.0)\n",
      "Requirement already satisfied: pyparsing>=2.2.1 in c:\\users\\alexchen\\anaconda3\\envs\\nzairefare\\lib\\site-packages (from matplotlib!=3.6.1,>=3.1->seaborn) (3.0.9)\n",
      "Requirement already satisfied: python-dateutil>=2.7 in c:\\users\\alexchen\\anaconda3\\envs\\nzairefare\\lib\\site-packages (from matplotlib!=3.6.1,>=3.1->seaborn) (2.8.2)\n",
      "Requirement already satisfied: packaging>=20.0 in c:\\users\\alexchen\\anaconda3\\envs\\nzairefare\\lib\\site-packages (from matplotlib!=3.6.1,>=3.1->seaborn) (22.0)\n",
      "Requirement already satisfied: kiwisolver>=1.0.1 in c:\\users\\alexchen\\anaconda3\\envs\\nzairefare\\lib\\site-packages (from matplotlib!=3.6.1,>=3.1->seaborn) (1.4.4)\n",
      "Requirement already satisfied: fonttools>=4.22.0 in c:\\users\\alexchen\\anaconda3\\envs\\nzairefare\\lib\\site-packages (from matplotlib!=3.6.1,>=3.1->seaborn) (4.38.0)\n",
      "Requirement already satisfied: contourpy>=1.0.1 in c:\\users\\alexchen\\anaconda3\\envs\\nzairefare\\lib\\site-packages (from matplotlib!=3.6.1,>=3.1->seaborn) (1.0.6)\n",
      "Requirement already satisfied: pillow>=6.2.0 in c:\\users\\alexchen\\anaconda3\\envs\\nzairefare\\lib\\site-packages (from matplotlib!=3.6.1,>=3.1->seaborn) (9.3.0)\n",
      "Requirement already satisfied: pytz>=2020.1 in c:\\users\\alexchen\\anaconda3\\envs\\nzairefare\\lib\\site-packages (from pandas>=0.25->seaborn) (2022.7)\n",
      "Requirement already satisfied: six>=1.5 in c:\\users\\alexchen\\anaconda3\\envs\\nzairefare\\lib\\site-packages (from python-dateutil>=2.7->matplotlib!=3.6.1,>=3.1->seaborn) (1.16.0)\n",
      "Requirement already satisfied: sklearn in c:\\users\\alexchen\\anaconda3\\envs\\nzairefare\\lib\\site-packages (0.0.post1)\n"
     ]
    }
   ],
   "source": [
    "!pip install numpy\n",
    "!pip install pandas\n",
    "!pip install matplotlib\n",
    "!pip install seaborn\n",
    "!pip install sklearn"
   ]
  },
  {
   "cell_type": "code",
   "execution_count": 2,
   "id": "cc24d0cd",
   "metadata": {},
   "outputs": [],
   "source": [
    "import numpy as np\n",
    "import pandas as pd\n",
    "import matplotlib.pyplot as plt\n",
    "import seaborn as sns\n",
    "from sklearn.model_selection import train_test_split\n",
    "\n",
    "sns.set()"
   ]
  },
  {
   "cell_type": "code",
   "execution_count": 3,
   "id": "179ce25b",
   "metadata": {},
   "outputs": [],
   "source": [
    "#df = pd.read_csv(r\"C:\\Users\\alexchen\\ML\\nzairfare\\NZairfares.csv\")"
   ]
  },
  {
   "cell_type": "code",
   "execution_count": 4,
   "id": "85cff44b",
   "metadata": {},
   "outputs": [
    {
     "data": {
      "text/plain": [
       "6513"
      ]
     },
     "execution_count": 4,
     "metadata": {},
     "output_type": "execute_result"
    }
   ],
   "source": [
    "#Reduce data size\n",
    "df = pd.read_csv(r\"C:\\Users\\alexchen\\ML\\nzairfare\\NZairfares.csv\")\n",
    "df = df.sample(frac=0.04) # Only Extract 4% of total data - for pickle file upload limitation 25mb\n",
    "len(df)                  # check length"
   ]
  },
  {
   "cell_type": "code",
   "execution_count": 5,
   "id": "2014cae4",
   "metadata": {},
   "outputs": [
    {
     "name": "stdout",
     "output_type": "stream",
     "text": [
      "<class 'pandas.core.frame.DataFrame'>\n",
      "Int64Index: 6513 entries, 140268 to 101569\n",
      "Data columns (total 11 columns):\n",
      " #   Column        Non-Null Count  Dtype \n",
      "---  ------        --------------  ----- \n",
      " 0   Travel Date   6513 non-null   object\n",
      " 1   Dep. airport  6512 non-null   object\n",
      " 2   Dep. time     6513 non-null   object\n",
      " 3   Arr. airport  6512 non-null   object\n",
      " 4   Arr. time     6513 non-null   object\n",
      " 5   Duration      6513 non-null   object\n",
      " 6   Direct        6513 non-null   object\n",
      " 7   Transit       4907 non-null   object\n",
      " 8   Baggage       97 non-null     object\n",
      " 9   Airline       6513 non-null   object\n",
      " 10  Airfare(NZ$)  6513 non-null   int64 \n",
      "dtypes: int64(1), object(10)\n",
      "memory usage: 610.6+ KB\n"
     ]
    }
   ],
   "source": [
    "df.info()"
   ]
  },
  {
   "cell_type": "code",
   "execution_count": 6,
   "id": "52a737bb",
   "metadata": {},
   "outputs": [],
   "source": [
    "df=df.rename(columns={'Travel Date':'Date_of_Journey','Dep. time':'Dep_Time','Arr. time':'Arrival_Time','Dep. airport':'Source','Arr. airport':'Destination','Direct':'Total_Stops','Airfare(NZ$)':'Price'})"
   ]
  },
  {
   "cell_type": "code",
   "execution_count": 7,
   "id": "87a2d6cf",
   "metadata": {
    "scrolled": true
   },
   "outputs": [
    {
     "name": "stdout",
     "output_type": "stream",
     "text": [
      "<class 'pandas.core.frame.DataFrame'>\n",
      "Int64Index: 6513 entries, 140268 to 101569\n",
      "Data columns (total 11 columns):\n",
      " #   Column           Non-Null Count  Dtype \n",
      "---  ------           --------------  ----- \n",
      " 0   Date_of_Journey  6513 non-null   object\n",
      " 1   Source           6512 non-null   object\n",
      " 2   Dep_Time         6513 non-null   object\n",
      " 3   Destination      6512 non-null   object\n",
      " 4   Arrival_Time     6513 non-null   object\n",
      " 5   Duration         6513 non-null   object\n",
      " 6   Total_Stops      6513 non-null   object\n",
      " 7   Transit          4907 non-null   object\n",
      " 8   Baggage          97 non-null     object\n",
      " 9   Airline          6513 non-null   object\n",
      " 10  Price            6513 non-null   int64 \n",
      "dtypes: int64(1), object(10)\n",
      "memory usage: 610.6+ KB\n"
     ]
    }
   ],
   "source": [
    "df.info()"
   ]
  },
  {
   "cell_type": "code",
   "execution_count": 8,
   "id": "eed034d7",
   "metadata": {},
   "outputs": [
    {
     "data": {
      "text/plain": [
       "(6513, 11)"
      ]
     },
     "execution_count": 8,
     "metadata": {},
     "output_type": "execute_result"
    }
   ],
   "source": [
    "df.shape"
   ]
  },
  {
   "cell_type": "code",
   "execution_count": 9,
   "id": "b9b47da0",
   "metadata": {},
   "outputs": [
    {
     "data": {
      "text/plain": [
       "Date_of_Journey       0\n",
       "Source                1\n",
       "Dep_Time              0\n",
       "Destination           1\n",
       "Arrival_Time          0\n",
       "Duration              0\n",
       "Total_Stops           0\n",
       "Transit            1606\n",
       "Baggage            6416\n",
       "Airline               0\n",
       "Price                 0\n",
       "dtype: int64"
      ]
     },
     "execution_count": 9,
     "metadata": {},
     "output_type": "execute_result"
    }
   ],
   "source": [
    "##check missing values\n",
    "df.isnull().sum()"
   ]
  },
  {
   "cell_type": "code",
   "execution_count": 10,
   "id": "d9721e6e",
   "metadata": {},
   "outputs": [
    {
     "data": {
      "text/html": [
       "<div>\n",
       "<style scoped>\n",
       "    .dataframe tbody tr th:only-of-type {\n",
       "        vertical-align: middle;\n",
       "    }\n",
       "\n",
       "    .dataframe tbody tr th {\n",
       "        vertical-align: top;\n",
       "    }\n",
       "\n",
       "    .dataframe thead th {\n",
       "        text-align: right;\n",
       "    }\n",
       "</style>\n",
       "<table border=\"1\" class=\"dataframe\">\n",
       "  <thead>\n",
       "    <tr style=\"text-align: right;\">\n",
       "      <th></th>\n",
       "      <th>Date_of_Journey</th>\n",
       "      <th>Source</th>\n",
       "      <th>Dep_Time</th>\n",
       "      <th>Destination</th>\n",
       "      <th>Arrival_Time</th>\n",
       "      <th>Duration</th>\n",
       "      <th>Total_Stops</th>\n",
       "      <th>Transit</th>\n",
       "      <th>Baggage</th>\n",
       "      <th>Airline</th>\n",
       "      <th>Price</th>\n",
       "    </tr>\n",
       "  </thead>\n",
       "  <tbody>\n",
       "    <tr>\n",
       "      <th>140268</th>\n",
       "      <td>30/11/2019</td>\n",
       "      <td>ZQN</td>\n",
       "      <td>11:40 AM</td>\n",
       "      <td>DUD</td>\n",
       "      <td>9:55 AM</td>\n",
       "      <td>22h 15m</td>\n",
       "      <td>(2 stops)</td>\n",
       "      <td>NaN</td>\n",
       "      <td>NaN</td>\n",
       "      <td>Air New Zealand</td>\n",
       "      <td>372</td>\n",
       "    </tr>\n",
       "    <tr>\n",
       "      <th>146752</th>\n",
       "      <td>5/12/2019</td>\n",
       "      <td>AKL</td>\n",
       "      <td>1:00 PM</td>\n",
       "      <td>DUD</td>\n",
       "      <td>5:00 PM</td>\n",
       "      <td>4h 0m</td>\n",
       "      <td>(1 stop)</td>\n",
       "      <td>1h 30m in CHC</td>\n",
       "      <td>NaN</td>\n",
       "      <td>Air New Zealand</td>\n",
       "      <td>485</td>\n",
       "    </tr>\n",
       "    <tr>\n",
       "      <th>89641</th>\n",
       "      <td>3/11/2019</td>\n",
       "      <td>CHC</td>\n",
       "      <td>9:00 AM</td>\n",
       "      <td>WLG</td>\n",
       "      <td>2:10 PM</td>\n",
       "      <td>5h 10m</td>\n",
       "      <td>(1 stop)</td>\n",
       "      <td>2h 35m in AKL</td>\n",
       "      <td>NaN</td>\n",
       "      <td>Air New Zealand</td>\n",
       "      <td>432</td>\n",
       "    </tr>\n",
       "    <tr>\n",
       "      <th>49542</th>\n",
       "      <td>13/10/2019</td>\n",
       "      <td>WLG</td>\n",
       "      <td>6:45 PM</td>\n",
       "      <td>NPE</td>\n",
       "      <td>9:30 AM</td>\n",
       "      <td>14h 45m</td>\n",
       "      <td>(1 stop)</td>\n",
       "      <td>12h 35m in AKL</td>\n",
       "      <td>NaN</td>\n",
       "      <td>Air New Zealand</td>\n",
       "      <td>487</td>\n",
       "    </tr>\n",
       "    <tr>\n",
       "      <th>64613</th>\n",
       "      <td>22/10/2019</td>\n",
       "      <td>AKL</td>\n",
       "      <td>1:00 PM</td>\n",
       "      <td>NPL</td>\n",
       "      <td>8:10 PM</td>\n",
       "      <td>7h 10m</td>\n",
       "      <td>(1 stop)</td>\n",
       "      <td>5h 10m in WLG</td>\n",
       "      <td>NaN</td>\n",
       "      <td>Air New Zealand</td>\n",
       "      <td>382</td>\n",
       "    </tr>\n",
       "  </tbody>\n",
       "</table>\n",
       "</div>"
      ],
      "text/plain": [
       "       Date_of_Journey Source  Dep_Time Destination Arrival_Time Duration  \\\n",
       "140268      30/11/2019    ZQN  11:40 AM         DUD      9:55 AM  22h 15m   \n",
       "146752       5/12/2019    AKL   1:00 PM         DUD      5:00 PM    4h 0m   \n",
       "89641        3/11/2019    CHC   9:00 AM         WLG      2:10 PM   5h 10m   \n",
       "49542       13/10/2019    WLG   6:45 PM         NPE      9:30 AM  14h 45m   \n",
       "64613       22/10/2019    AKL   1:00 PM         NPL      8:10 PM   7h 10m   \n",
       "\n",
       "       Total_Stops         Transit Baggage          Airline  Price  \n",
       "140268   (2 stops)             NaN     NaN  Air New Zealand    372  \n",
       "146752    (1 stop)   1h 30m in CHC     NaN  Air New Zealand    485  \n",
       "89641     (1 stop)   2h 35m in AKL     NaN  Air New Zealand    432  \n",
       "49542     (1 stop)  12h 35m in AKL     NaN  Air New Zealand    487  \n",
       "64613     (1 stop)   5h 10m in WLG     NaN  Air New Zealand    382  "
      ]
     },
     "execution_count": 10,
     "metadata": {},
     "output_type": "execute_result"
    }
   ],
   "source": [
    "df.head()"
   ]
  },
  {
   "cell_type": "code",
   "execution_count": 11,
   "id": "f1c92e3a",
   "metadata": {},
   "outputs": [
    {
     "data": {
      "text/html": [
       "<div>\n",
       "<style scoped>\n",
       "    .dataframe tbody tr th:only-of-type {\n",
       "        vertical-align: middle;\n",
       "    }\n",
       "\n",
       "    .dataframe tbody tr th {\n",
       "        vertical-align: top;\n",
       "    }\n",
       "\n",
       "    .dataframe thead th {\n",
       "        text-align: right;\n",
       "    }\n",
       "</style>\n",
       "<table border=\"1\" class=\"dataframe\">\n",
       "  <thead>\n",
       "    <tr style=\"text-align: right;\">\n",
       "      <th></th>\n",
       "      <th>Price</th>\n",
       "    </tr>\n",
       "  </thead>\n",
       "  <tbody>\n",
       "    <tr>\n",
       "      <th>count</th>\n",
       "      <td>6513.000000</td>\n",
       "    </tr>\n",
       "    <tr>\n",
       "      <th>mean</th>\n",
       "      <td>414.495931</td>\n",
       "    </tr>\n",
       "    <tr>\n",
       "      <th>std</th>\n",
       "      <td>171.100427</td>\n",
       "    </tr>\n",
       "    <tr>\n",
       "      <th>min</th>\n",
       "      <td>36.000000</td>\n",
       "    </tr>\n",
       "    <tr>\n",
       "      <th>25%</th>\n",
       "      <td>293.000000</td>\n",
       "    </tr>\n",
       "    <tr>\n",
       "      <th>50%</th>\n",
       "      <td>401.000000</td>\n",
       "    </tr>\n",
       "    <tr>\n",
       "      <th>75%</th>\n",
       "      <td>515.000000</td>\n",
       "    </tr>\n",
       "    <tr>\n",
       "      <th>max</th>\n",
       "      <td>1343.000000</td>\n",
       "    </tr>\n",
       "  </tbody>\n",
       "</table>\n",
       "</div>"
      ],
      "text/plain": [
       "             Price\n",
       "count  6513.000000\n",
       "mean    414.495931\n",
       "std     171.100427\n",
       "min      36.000000\n",
       "25%     293.000000\n",
       "50%     401.000000\n",
       "75%     515.000000\n",
       "max    1343.000000"
      ]
     },
     "execution_count": 11,
     "metadata": {},
     "output_type": "execute_result"
    }
   ],
   "source": [
    "df.describe()"
   ]
  },
  {
   "cell_type": "code",
   "execution_count": 12,
   "id": "97047001",
   "metadata": {
    "scrolled": true
   },
   "outputs": [
    {
     "data": {
      "text/plain": [
       "Index(['Date_of_Journey', 'Source', 'Dep_Time', 'Destination', 'Arrival_Time',\n",
       "       'Duration', 'Total_Stops', 'Transit', 'Baggage', 'Airline', 'Price'],\n",
       "      dtype='object')"
      ]
     },
     "execution_count": 12,
     "metadata": {},
     "output_type": "execute_result"
    }
   ],
   "source": [
    "df.columns"
   ]
  },
  {
   "cell_type": "code",
   "execution_count": 13,
   "id": "28fe9161",
   "metadata": {},
   "outputs": [
    {
     "name": "stdout",
     "output_type": "stream",
     "text": [
      "['(2 stops)' '(1 stop)' '(Direct)']\n"
     ]
    }
   ],
   "source": [
    "#Check category var value distinct count\n",
    "#print(df['Date_of_Journey'].unique())\n",
    "#print(df['Source'].unique())\n",
    "#print(df['Destination'].unique())\n",
    "#print(df['Arrival_Time'].unique())\n",
    "#print(df['Dep_Time'].unique())\n",
    "#print(df['Duration'].unique())\n",
    "print(df['Total_Stops'].unique())\n",
    "#print(df['Transit'].unique())\n",
    "#print(df['Baggage'].unique())\n",
    "#print(df['Airline'].unique())\n"
   ]
  },
  {
   "cell_type": "code",
   "execution_count": 14,
   "id": "e4244f81",
   "metadata": {},
   "outputs": [],
   "source": [
    "#Check category var value count\n",
    "#print(df['Travel Date'].value_counts())\n",
    "#print(df['Dep. airport'].value_counts())\n",
    "#print(df['Arr. airport'].value_counts())\n",
    "#print(df['Arr. time'].value_counts())\n",
    "#print(df['Duration'].value_counts())\n",
    "#print(df['Direct'].value_counts())\n",
    "#print(df['Transit'].value_counts())\n",
    "#print(df['Baggage'].value_counts())\n",
    "#print(df['Airline'].value_counts())\n"
   ]
  },
  {
   "cell_type": "code",
   "execution_count": 15,
   "id": "37a9c8fe",
   "metadata": {
    "scrolled": true
   },
   "outputs": [],
   "source": [
    "# Remove column Baggage\n",
    "df=df.drop(columns=['Baggage'])\n",
    "# Drop missing value\n",
    "\n",
    "df = df[df['Source'].notna()]\n",
    "df = df[df['Arrival_Time'].notna()]\n",
    "# Drop transit missing value when Direct not equal to \"direct\" \n",
    "# If Direct equal to \"direct\" then nah in transit will be count as 0\n",
    "df_1 = df[df['Total_Stops'].isin([\"(1 stop)\",\"(2 stops)\",\"(3 stops)\"])&(df['Transit'].notnull())]\n",
    "df_2 = df[df['Total_Stops']==\"(Direct)\"].fillna(0)\n",
    "df_3 = pd.concat([df_1,df_2])"
   ]
  },
  {
   "cell_type": "code",
   "execution_count": 16,
   "id": "efa4e619",
   "metadata": {
    "scrolled": true
   },
   "outputs": [
    {
     "data": {
      "text/plain": [
       "Date_of_Journey    0\n",
       "Source             0\n",
       "Dep_Time           0\n",
       "Destination        0\n",
       "Arrival_Time       0\n",
       "Duration           0\n",
       "Total_Stops        0\n",
       "Transit            0\n",
       "Airline            0\n",
       "Price              0\n",
       "dtype: int64"
      ]
     },
     "execution_count": 16,
     "metadata": {},
     "output_type": "execute_result"
    }
   ],
   "source": [
    "##check missing values\n",
    "df_3.isnull().sum()\n",
    "\n",
    "#df.head()"
   ]
  },
  {
   "cell_type": "code",
   "execution_count": 17,
   "id": "0e007227",
   "metadata": {},
   "outputs": [
    {
     "data": {
      "text/plain": [
       "(5667, 10)"
      ]
     },
     "execution_count": 17,
     "metadata": {},
     "output_type": "execute_result"
    }
   ],
   "source": [
    "df_3.shape"
   ]
  },
  {
   "cell_type": "markdown",
   "id": "d13d0a8e",
   "metadata": {},
   "source": [
    "### Split Data"
   ]
  },
  {
   "cell_type": "code",
   "execution_count": 18,
   "id": "2cae53a3",
   "metadata": {},
   "outputs": [],
   "source": [
    "################### split to train_data and test_data ##############################\n",
    "train_data, test_data = train_test_split(df_3, test_size=0.2, random_state=25)"
   ]
  },
  {
   "cell_type": "code",
   "execution_count": null,
   "id": "d6386b46",
   "metadata": {},
   "outputs": [],
   "source": []
  },
  {
   "cell_type": "markdown",
   "id": "9801adf4",
   "metadata": {},
   "source": [
    "### Train Data"
   ]
  },
  {
   "cell_type": "code",
   "execution_count": 19,
   "id": "ce5bcf88",
   "metadata": {
    "scrolled": true
   },
   "outputs": [
    {
     "name": "stderr",
     "output_type": "stream",
     "text": [
      "<ipython-input-19-512f6a4de31c>:1: SettingWithCopyWarning: \n",
      "A value is trying to be set on a copy of a slice from a DataFrame.\n",
      "Try using .loc[row_indexer,col_indexer] = value instead\n",
      "\n",
      "See the caveats in the documentation: https://pandas.pydata.org/pandas-docs/stable/user_guide/indexing.html#returning-a-view-versus-a-copy\n",
      "  train_data[\"Journey_day\"] = pd.to_datetime(train_data.Date_of_Journey, format=\"%d/%m/%Y\").dt.day\n",
      "<ipython-input-19-512f6a4de31c>:2: SettingWithCopyWarning: \n",
      "A value is trying to be set on a copy of a slice from a DataFrame.\n",
      "Try using .loc[row_indexer,col_indexer] = value instead\n",
      "\n",
      "See the caveats in the documentation: https://pandas.pydata.org/pandas-docs/stable/user_guide/indexing.html#returning-a-view-versus-a-copy\n",
      "  train_data[\"Journey_month\"] = pd.to_datetime(train_data[\"Date_of_Journey\"], format = \"%d/%m/%Y\").dt.month\n"
     ]
    }
   ],
   "source": [
    "train_data[\"Journey_day\"] = pd.to_datetime(train_data.Date_of_Journey, format=\"%d/%m/%Y\").dt.day\n",
    "train_data[\"Journey_month\"] = pd.to_datetime(train_data[\"Date_of_Journey\"], format = \"%d/%m/%Y\").dt.month"
   ]
  },
  {
   "cell_type": "code",
   "execution_count": 20,
   "id": "d83f2beb",
   "metadata": {},
   "outputs": [],
   "source": [
    "train_data=train_data.drop(columns=['Transit'])\n"
   ]
  },
  {
   "cell_type": "code",
   "execution_count": 21,
   "id": "59f3532f",
   "metadata": {},
   "outputs": [],
   "source": [
    "# Departure time is when a plane leaves the gate. \n",
    "# Similar to Date_of_Journey we can extract values from Dep_Time\n",
    "\n",
    "# Extracting Hours\n",
    "train_data[\"Dep_hour\"] = pd.to_datetime(train_data[\"Dep_Time\"]).dt.hour\n",
    "\n",
    "# Extracting Minutes\n",
    "train_data[\"Dep_min\"] = pd.to_datetime(train_data[\"Dep_Time\"]).dt.minute\n",
    "\n",
    "# Now we can drop Dep_Time as it is of no use\n",
    "#train_data.drop([\"Dep_time\"], axis = 1, inplace = True)"
   ]
  },
  {
   "cell_type": "code",
   "execution_count": 22,
   "id": "631f33f2",
   "metadata": {},
   "outputs": [],
   "source": [
    "# Arrival time is when the plane pulls up to the gate.\n",
    "# Similar to Date_of_Journey we can extract values from Arrival_Time\n",
    "\n",
    "# Extracting Hours\n",
    "train_data[\"Arrival_hour\"] = pd.to_datetime(train_data[\"Arrival_Time\"]).dt.hour\n",
    "\n",
    "# Extracting Minutes\n",
    "train_data[\"Arrival_min\"] = pd.to_datetime(train_data[\"Arrival_Time\"]).dt.minute\n",
    "\n",
    "# Now we can drop Arrival_Time as it is of no use\n",
    "#train_data.drop([\"Arr. time\"], axis = 1, inplace = True)"
   ]
  },
  {
   "cell_type": "code",
   "execution_count": 23,
   "id": "af3abd15",
   "metadata": {},
   "outputs": [],
   "source": [
    "# Time taken by plane to reach destination is called Duration\n",
    "# It is the differnce betwwen Departure Time and Arrival time\n",
    "\n",
    "\n",
    "# Assigning and converting Duration column into list\n",
    "duration = list(train_data[\"Duration\"])\n",
    "\n",
    "for i in range(len(duration)):\n",
    "    if len(duration[i].split()) != 2:    # Check if duration contains only hour or mins\n",
    "        if \"h\" in duration[i]:\n",
    "            duration[i] = duration[i].strip() + \" 0m\"   # Adds 0 minute\n",
    "        else:\n",
    "            duration[i] = \"0h \" + duration[i]           # Adds 0 hour\n",
    "\n",
    "duration_hours = []\n",
    "duration_mins = []\n",
    "for i in range(len(duration)):\n",
    "    duration_hours.append(int(duration[i].split(sep = \"h\")[0]))    # Extract hours from duration\n",
    "    duration_mins.append(int(duration[i].split(sep = \"m\")[0].split()[-1]))   # Extracts only minutes from duration"
   ]
  },
  {
   "cell_type": "code",
   "execution_count": 24,
   "id": "c0819271",
   "metadata": {},
   "outputs": [],
   "source": [
    "# Adding duration_hours and duration_mins list to train_data dataframe\n",
    "\n",
    "train_data[\"Duration_hours\"] = duration_hours\n",
    "train_data[\"Duration_mins\"] = duration_mins"
   ]
  },
  {
   "cell_type": "code",
   "execution_count": 25,
   "id": "aac22ffd",
   "metadata": {},
   "outputs": [],
   "source": [
    "#train_data.drop([\"Duration\"], axis = 1, inplace = True)"
   ]
  },
  {
   "cell_type": "code",
   "execution_count": 26,
   "id": "7bbd68e7",
   "metadata": {},
   "outputs": [
    {
     "data": {
      "text/plain": [
       "(1 stop)    3923\n",
       "(Direct)     610\n",
       "Name: Total_Stops, dtype: int64"
      ]
     },
     "execution_count": 26,
     "metadata": {},
     "output_type": "execute_result"
    }
   ],
   "source": [
    "train_data[\"Total_Stops\"].value_counts()"
   ]
  },
  {
   "cell_type": "code",
   "execution_count": 27,
   "id": "773250cc",
   "metadata": {},
   "outputs": [],
   "source": [
    "# As this is case of Ordinal Categorical type we perform LabelEncoder\n",
    "# Here Values are assigned with corresponding keys\n",
    "\n",
    "train_data.replace({\"(Direct)\": 0, \"(1 stop)\": 1, \"(2 stops)\": 2, \"(3 stops)\": 3}, inplace = True)"
   ]
  },
  {
   "cell_type": "code",
   "execution_count": 28,
   "id": "198b637b",
   "metadata": {
    "scrolled": true
   },
   "outputs": [
    {
     "data": {
      "text/html": [
       "<div>\n",
       "<style scoped>\n",
       "    .dataframe tbody tr th:only-of-type {\n",
       "        vertical-align: middle;\n",
       "    }\n",
       "\n",
       "    .dataframe tbody tr th {\n",
       "        vertical-align: top;\n",
       "    }\n",
       "\n",
       "    .dataframe thead th {\n",
       "        text-align: right;\n",
       "    }\n",
       "</style>\n",
       "<table border=\"1\" class=\"dataframe\">\n",
       "  <thead>\n",
       "    <tr style=\"text-align: right;\">\n",
       "      <th></th>\n",
       "      <th>Date_of_Journey</th>\n",
       "      <th>Source</th>\n",
       "      <th>Dep_Time</th>\n",
       "      <th>Destination</th>\n",
       "      <th>Arrival_Time</th>\n",
       "      <th>Duration</th>\n",
       "      <th>Total_Stops</th>\n",
       "      <th>Airline</th>\n",
       "      <th>Price</th>\n",
       "      <th>Journey_day</th>\n",
       "      <th>Journey_month</th>\n",
       "      <th>Dep_hour</th>\n",
       "      <th>Dep_min</th>\n",
       "      <th>Arrival_hour</th>\n",
       "      <th>Arrival_min</th>\n",
       "      <th>Duration_hours</th>\n",
       "      <th>Duration_mins</th>\n",
       "    </tr>\n",
       "  </thead>\n",
       "  <tbody>\n",
       "    <tr>\n",
       "      <th>115553</th>\n",
       "      <td>17/11/2019</td>\n",
       "      <td>AKL</td>\n",
       "      <td>10:00 AM</td>\n",
       "      <td>NSN</td>\n",
       "      <td>7:20 PM</td>\n",
       "      <td>9h 20m</td>\n",
       "      <td>1</td>\n",
       "      <td>Air New Zealand</td>\n",
       "      <td>263</td>\n",
       "      <td>17</td>\n",
       "      <td>11</td>\n",
       "      <td>10</td>\n",
       "      <td>0</td>\n",
       "      <td>19</td>\n",
       "      <td>20</td>\n",
       "      <td>9</td>\n",
       "      <td>20</td>\n",
       "    </tr>\n",
       "    <tr>\n",
       "      <th>8953</th>\n",
       "      <td>23/09/2019</td>\n",
       "      <td>WLG</td>\n",
       "      <td>2:45 PM</td>\n",
       "      <td>CHC</td>\n",
       "      <td>6:25 PM</td>\n",
       "      <td>3h 40m</td>\n",
       "      <td>1</td>\n",
       "      <td>Air New Zealand</td>\n",
       "      <td>272</td>\n",
       "      <td>23</td>\n",
       "      <td>9</td>\n",
       "      <td>14</td>\n",
       "      <td>45</td>\n",
       "      <td>18</td>\n",
       "      <td>25</td>\n",
       "      <td>3</td>\n",
       "      <td>40</td>\n",
       "    </tr>\n",
       "    <tr>\n",
       "      <th>144252</th>\n",
       "      <td>3/12/2019</td>\n",
       "      <td>WLG</td>\n",
       "      <td>12:35 PM</td>\n",
       "      <td>NSN</td>\n",
       "      <td>5:10 PM</td>\n",
       "      <td>4h 35m</td>\n",
       "      <td>1</td>\n",
       "      <td>Air New Zealand</td>\n",
       "      <td>412</td>\n",
       "      <td>3</td>\n",
       "      <td>12</td>\n",
       "      <td>12</td>\n",
       "      <td>35</td>\n",
       "      <td>17</td>\n",
       "      <td>10</td>\n",
       "      <td>4</td>\n",
       "      <td>35</td>\n",
       "    </tr>\n",
       "    <tr>\n",
       "      <th>70032</th>\n",
       "      <td>25/10/2019</td>\n",
       "      <td>AKL</td>\n",
       "      <td>1:20 PM</td>\n",
       "      <td>CHC</td>\n",
       "      <td>9:15 PM</td>\n",
       "      <td>7h 55m</td>\n",
       "      <td>1</td>\n",
       "      <td>Air New Zealand</td>\n",
       "      <td>472</td>\n",
       "      <td>25</td>\n",
       "      <td>10</td>\n",
       "      <td>13</td>\n",
       "      <td>20</td>\n",
       "      <td>21</td>\n",
       "      <td>15</td>\n",
       "      <td>7</td>\n",
       "      <td>55</td>\n",
       "    </tr>\n",
       "    <tr>\n",
       "      <th>78753</th>\n",
       "      <td>29/10/2019</td>\n",
       "      <td>AKL</td>\n",
       "      <td>8:30 PM</td>\n",
       "      <td>ZQN</td>\n",
       "      <td>11:10 AM</td>\n",
       "      <td>14h 40m</td>\n",
       "      <td>1</td>\n",
       "      <td>Air New Zealand</td>\n",
       "      <td>302</td>\n",
       "      <td>29</td>\n",
       "      <td>10</td>\n",
       "      <td>20</td>\n",
       "      <td>30</td>\n",
       "      <td>11</td>\n",
       "      <td>10</td>\n",
       "      <td>14</td>\n",
       "      <td>40</td>\n",
       "    </tr>\n",
       "  </tbody>\n",
       "</table>\n",
       "</div>"
      ],
      "text/plain": [
       "       Date_of_Journey Source  Dep_Time Destination Arrival_Time Duration  \\\n",
       "115553      17/11/2019    AKL  10:00 AM         NSN      7:20 PM   9h 20m   \n",
       "8953        23/09/2019    WLG   2:45 PM         CHC      6:25 PM   3h 40m   \n",
       "144252       3/12/2019    WLG  12:35 PM         NSN      5:10 PM   4h 35m   \n",
       "70032       25/10/2019    AKL   1:20 PM         CHC      9:15 PM   7h 55m   \n",
       "78753       29/10/2019    AKL   8:30 PM         ZQN     11:10 AM  14h 40m   \n",
       "\n",
       "        Total_Stops          Airline  Price  Journey_day  Journey_month  \\\n",
       "115553            1  Air New Zealand    263           17             11   \n",
       "8953              1  Air New Zealand    272           23              9   \n",
       "144252            1  Air New Zealand    412            3             12   \n",
       "70032             1  Air New Zealand    472           25             10   \n",
       "78753             1  Air New Zealand    302           29             10   \n",
       "\n",
       "        Dep_hour  Dep_min  Arrival_hour  Arrival_min  Duration_hours  \\\n",
       "115553        10        0            19           20               9   \n",
       "8953          14       45            18           25               3   \n",
       "144252        12       35            17           10               4   \n",
       "70032         13       20            21           15               7   \n",
       "78753         20       30            11           10              14   \n",
       "\n",
       "        Duration_mins  \n",
       "115553             20  \n",
       "8953               40  \n",
       "144252             35  \n",
       "70032              55  \n",
       "78753              40  "
      ]
     },
     "execution_count": 28,
     "metadata": {},
     "output_type": "execute_result"
    }
   ],
   "source": [
    "train_data.head()"
   ]
  },
  {
   "cell_type": "code",
   "execution_count": 29,
   "id": "c7f79752",
   "metadata": {},
   "outputs": [
    {
     "data": {
      "text/plain": [
       "WLG    1295\n",
       "CHC    1263\n",
       "AKL    1235\n",
       "ZQN     740\n",
       "Name: Source, dtype: int64"
      ]
     },
     "execution_count": 29,
     "metadata": {},
     "output_type": "execute_result"
    }
   ],
   "source": [
    "train_data['Source'].value_counts()"
   ]
  },
  {
   "cell_type": "code",
   "execution_count": 30,
   "id": "d54616c3",
   "metadata": {
    "scrolled": true
   },
   "outputs": [
    {
     "data": {
      "image/png": "[encoded data removed]",
      "text/plain": [
       "<Figure size 864x288 with 1 Axes>"
      ]
     },
     "metadata": {},
     "output_type": "display_data"
    }
   ],
   "source": [
    "# Departure vs Price\n",
    "\n",
    "sns.catplot(y = \"Price\", x = \"Source\", data = train_data.sort_values(\"Price\", ascending = False), kind=\"box\", height = 4, aspect = 3)\n",
    "plt.show()"
   ]
  },
  {
   "cell_type": "code",
   "execution_count": 31,
   "id": "f8a8bd2f",
   "metadata": {},
   "outputs": [
    {
     "data": {
      "text/html": [
       "<div>\n",
       "<style scoped>\n",
       "    .dataframe tbody tr th:only-of-type {\n",
       "        vertical-align: middle;\n",
       "    }\n",
       "\n",
       "    .dataframe tbody tr th {\n",
       "        vertical-align: top;\n",
       "    }\n",
       "\n",
       "    .dataframe thead th {\n",
       "        text-align: right;\n",
       "    }\n",
       "</style>\n",
       "<table border=\"1\" class=\"dataframe\">\n",
       "  <thead>\n",
       "    <tr style=\"text-align: right;\">\n",
       "      <th></th>\n",
       "      <th>Source_AKL</th>\n",
       "      <th>Source_CHC</th>\n",
       "      <th>Source_WLG</th>\n",
       "    </tr>\n",
       "  </thead>\n",
       "  <tbody>\n",
       "    <tr>\n",
       "      <th>115553</th>\n",
       "      <td>1</td>\n",
       "      <td>0</td>\n",
       "      <td>0</td>\n",
       "    </tr>\n",
       "    <tr>\n",
       "      <th>8953</th>\n",
       "      <td>0</td>\n",
       "      <td>0</td>\n",
       "      <td>1</td>\n",
       "    </tr>\n",
       "    <tr>\n",
       "      <th>144252</th>\n",
       "      <td>0</td>\n",
       "      <td>0</td>\n",
       "      <td>1</td>\n",
       "    </tr>\n",
       "    <tr>\n",
       "      <th>70032</th>\n",
       "      <td>1</td>\n",
       "      <td>0</td>\n",
       "      <td>0</td>\n",
       "    </tr>\n",
       "    <tr>\n",
       "      <th>78753</th>\n",
       "      <td>1</td>\n",
       "      <td>0</td>\n",
       "      <td>0</td>\n",
       "    </tr>\n",
       "  </tbody>\n",
       "</table>\n",
       "</div>"
      ],
      "text/plain": [
       "        Source_AKL  Source_CHC  Source_WLG\n",
       "115553           1           0           0\n",
       "8953             0           0           1\n",
       "144252           0           0           1\n",
       "70032            1           0           0\n",
       "78753            1           0           0"
      ]
     },
     "execution_count": 31,
     "metadata": {},
     "output_type": "execute_result"
    }
   ],
   "source": [
    "# As Departure is Nominal Categorical data we will perform OneHotEncoding\n",
    "\n",
    "Departure = train_data[\"Source\"].str.get_dummies().drop('ZQN',axis=1).add_prefix('Source_')\n",
    "\n",
    "#Departure = pd.get_dummies(Departure)\n",
    "\n",
    "Departure.head()"
   ]
  },
  {
   "cell_type": "code",
   "execution_count": 32,
   "id": "81312933",
   "metadata": {},
   "outputs": [
    {
     "data": {
      "text/plain": [
       "NSN    677\n",
       "NPE    578\n",
       "DUD    538\n",
       "CHC    516\n",
       "AKL    502\n",
       "PMR    496\n",
       "NPL    463\n",
       "ZQN    404\n",
       "WLG    359\n",
       "Name: Destination, dtype: int64"
      ]
     },
     "execution_count": 32,
     "metadata": {},
     "output_type": "execute_result"
    }
   ],
   "source": [
    "train_data['Destination'].value_counts()"
   ]
  },
  {
   "cell_type": "code",
   "execution_count": 33,
   "id": "a0982941",
   "metadata": {},
   "outputs": [
    {
     "data": {
      "text/html": [
       "<div>\n",
       "<style scoped>\n",
       "    .dataframe tbody tr th:only-of-type {\n",
       "        vertical-align: middle;\n",
       "    }\n",
       "\n",
       "    .dataframe tbody tr th {\n",
       "        vertical-align: top;\n",
       "    }\n",
       "\n",
       "    .dataframe thead th {\n",
       "        text-align: right;\n",
       "    }\n",
       "</style>\n",
       "<table border=\"1\" class=\"dataframe\">\n",
       "  <thead>\n",
       "    <tr style=\"text-align: right;\">\n",
       "      <th></th>\n",
       "      <th>Destination_AKL</th>\n",
       "      <th>Destination_CHC</th>\n",
       "      <th>Destination_DUD</th>\n",
       "      <th>Destination_NPE</th>\n",
       "      <th>Destination_NPL</th>\n",
       "      <th>Destination_NSN</th>\n",
       "      <th>Destination_PMR</th>\n",
       "      <th>Destination_ZQN</th>\n",
       "    </tr>\n",
       "  </thead>\n",
       "  <tbody>\n",
       "    <tr>\n",
       "      <th>115553</th>\n",
       "      <td>0</td>\n",
       "      <td>0</td>\n",
       "      <td>0</td>\n",
       "      <td>0</td>\n",
       "      <td>0</td>\n",
       "      <td>1</td>\n",
       "      <td>0</td>\n",
       "      <td>0</td>\n",
       "    </tr>\n",
       "    <tr>\n",
       "      <th>8953</th>\n",
       "      <td>0</td>\n",
       "      <td>1</td>\n",
       "      <td>0</td>\n",
       "      <td>0</td>\n",
       "      <td>0</td>\n",
       "      <td>0</td>\n",
       "      <td>0</td>\n",
       "      <td>0</td>\n",
       "    </tr>\n",
       "    <tr>\n",
       "      <th>144252</th>\n",
       "      <td>0</td>\n",
       "      <td>0</td>\n",
       "      <td>0</td>\n",
       "      <td>0</td>\n",
       "      <td>0</td>\n",
       "      <td>1</td>\n",
       "      <td>0</td>\n",
       "      <td>0</td>\n",
       "    </tr>\n",
       "    <tr>\n",
       "      <th>70032</th>\n",
       "      <td>0</td>\n",
       "      <td>1</td>\n",
       "      <td>0</td>\n",
       "      <td>0</td>\n",
       "      <td>0</td>\n",
       "      <td>0</td>\n",
       "      <td>0</td>\n",
       "      <td>0</td>\n",
       "    </tr>\n",
       "    <tr>\n",
       "      <th>78753</th>\n",
       "      <td>0</td>\n",
       "      <td>0</td>\n",
       "      <td>0</td>\n",
       "      <td>0</td>\n",
       "      <td>0</td>\n",
       "      <td>0</td>\n",
       "      <td>0</td>\n",
       "      <td>1</td>\n",
       "    </tr>\n",
       "  </tbody>\n",
       "</table>\n",
       "</div>"
      ],
      "text/plain": [
       "        Destination_AKL  Destination_CHC  Destination_DUD  Destination_NPE  \\\n",
       "115553                0                0                0                0   \n",
       "8953                  0                1                0                0   \n",
       "144252                0                0                0                0   \n",
       "70032                 0                1                0                0   \n",
       "78753                 0                0                0                0   \n",
       "\n",
       "        Destination_NPL  Destination_NSN  Destination_PMR  Destination_ZQN  \n",
       "115553                0                1                0                0  \n",
       "8953                  0                0                0                0  \n",
       "144252                0                1                0                0  \n",
       "70032                 0                0                0                0  \n",
       "78753                 0                0                0                1  "
      ]
     },
     "execution_count": 33,
     "metadata": {},
     "output_type": "execute_result"
    }
   ],
   "source": [
    "# As Destination is Nominal Categorical data we will perform OneHotEncoding - drop WLG\n",
    "\n",
    "Destination = train_data[\"Destination\"].str.get_dummies().drop('WLG',axis=1).add_prefix('Destination_')\n",
    "\n",
    "#Destination = pd.get_dummies(Destination)\n",
    "\n",
    "Destination.head()"
   ]
  },
  {
   "cell_type": "code",
   "execution_count": 34,
   "id": "1c29c817",
   "metadata": {},
   "outputs": [
    {
     "data": {
      "image/png": "[encoded data removed]",
      "text/plain": [
       "<Figure size 864x288 with 1 Axes>"
      ]
     },
     "metadata": {},
     "output_type": "display_data"
    }
   ],
   "source": [
    "# Departure vs Price\n",
    "\n",
    "sns.catplot(y = \"Price\", x = \"Source\", data = train_data.sort_values(\"Price\", ascending = False), kind=\"box\", height = 4, aspect = 3)\n",
    "plt.show()"
   ]
  },
  {
   "cell_type": "code",
   "execution_count": 35,
   "id": "250c9262",
   "metadata": {
    "scrolled": true
   },
   "outputs": [
    {
     "data": {
      "image/png": "[encoded data removed]",
      "text/plain": [
       "<Figure size 1296x432 with 1 Axes>"
      ]
     },
     "metadata": {},
     "output_type": "display_data"
    }
   ],
   "source": [
    "# From graph we can see that Jet Airways Business have the highest Price.\n",
    "# Apart from the first Airline almost all are having similar median\n",
    "\n",
    "# Airline vs Price\n",
    "sns.catplot(y = \"Price\", x = \"Airline\", data = train_data.sort_values(\"Price\", ascending = False), kind=\"box\", height = 6, aspect = 3)\n",
    "plt.show()"
   ]
  },
  {
   "cell_type": "code",
   "execution_count": 36,
   "id": "218b3131",
   "metadata": {},
   "outputs": [
    {
     "data": {
      "text/html": [
       "<div>\n",
       "<style scoped>\n",
       "    .dataframe tbody tr th:only-of-type {\n",
       "        vertical-align: middle;\n",
       "    }\n",
       "\n",
       "    .dataframe tbody tr th {\n",
       "        vertical-align: top;\n",
       "    }\n",
       "\n",
       "    .dataframe thead th {\n",
       "        text-align: right;\n",
       "    }\n",
       "</style>\n",
       "<table border=\"1\" class=\"dataframe\">\n",
       "  <thead>\n",
       "    <tr style=\"text-align: right;\">\n",
       "      <th></th>\n",
       "      <th>Air New Zealand</th>\n",
       "      <th>Jetstar</th>\n",
       "    </tr>\n",
       "  </thead>\n",
       "  <tbody>\n",
       "    <tr>\n",
       "      <th>115553</th>\n",
       "      <td>1</td>\n",
       "      <td>0</td>\n",
       "    </tr>\n",
       "    <tr>\n",
       "      <th>8953</th>\n",
       "      <td>1</td>\n",
       "      <td>0</td>\n",
       "    </tr>\n",
       "    <tr>\n",
       "      <th>144252</th>\n",
       "      <td>1</td>\n",
       "      <td>0</td>\n",
       "    </tr>\n",
       "    <tr>\n",
       "      <th>70032</th>\n",
       "      <td>1</td>\n",
       "      <td>0</td>\n",
       "    </tr>\n",
       "    <tr>\n",
       "      <th>78753</th>\n",
       "      <td>1</td>\n",
       "      <td>0</td>\n",
       "    </tr>\n",
       "  </tbody>\n",
       "</table>\n",
       "</div>"
      ],
      "text/plain": [
       "        Air New Zealand  Jetstar\n",
       "115553                1        0\n",
       "8953                  1        0\n",
       "144252                1        0\n",
       "70032                 1        0\n",
       "78753                 1        0"
      ]
     },
     "execution_count": 36,
     "metadata": {},
     "output_type": "execute_result"
    }
   ],
   "source": [
    "# As Airline is Nominal Categorical data we will perform OneHotEncoding - avoid Multicollinearity\n",
    "\n",
    "Airline=train_data[\"Airline\"].str.get_dummies().drop('Sounds Air',axis=1)\n",
    "Airline = pd.get_dummies(Airline)\n",
    "\n",
    "Airline.head()"
   ]
  },
  {
   "cell_type": "code",
   "execution_count": 37,
   "id": "4c3d697b",
   "metadata": {},
   "outputs": [],
   "source": [
    "#train_data[\"Transit\"].value_counts()"
   ]
  },
  {
   "cell_type": "code",
   "execution_count": 38,
   "id": "bb45ff86",
   "metadata": {},
   "outputs": [
    {
     "data": {
      "text/html": [
       "<div>\n",
       "<style scoped>\n",
       "    .dataframe tbody tr th:only-of-type {\n",
       "        vertical-align: middle;\n",
       "    }\n",
       "\n",
       "    .dataframe tbody tr th {\n",
       "        vertical-align: top;\n",
       "    }\n",
       "\n",
       "    .dataframe thead th {\n",
       "        text-align: right;\n",
       "    }\n",
       "</style>\n",
       "<table border=\"1\" class=\"dataframe\">\n",
       "  <thead>\n",
       "    <tr style=\"text-align: right;\">\n",
       "      <th></th>\n",
       "      <th>Date_of_Journey</th>\n",
       "      <th>Source</th>\n",
       "      <th>Dep_Time</th>\n",
       "      <th>Destination</th>\n",
       "      <th>Arrival_Time</th>\n",
       "      <th>Duration</th>\n",
       "      <th>Total_Stops</th>\n",
       "      <th>Airline</th>\n",
       "      <th>Price</th>\n",
       "      <th>Journey_day</th>\n",
       "      <th>Journey_month</th>\n",
       "      <th>Dep_hour</th>\n",
       "      <th>Dep_min</th>\n",
       "      <th>Arrival_hour</th>\n",
       "      <th>Arrival_min</th>\n",
       "      <th>Duration_hours</th>\n",
       "      <th>Duration_mins</th>\n",
       "    </tr>\n",
       "  </thead>\n",
       "  <tbody>\n",
       "    <tr>\n",
       "      <th>115553</th>\n",
       "      <td>17/11/2019</td>\n",
       "      <td>AKL</td>\n",
       "      <td>10:00 AM</td>\n",
       "      <td>NSN</td>\n",
       "      <td>7:20 PM</td>\n",
       "      <td>9h 20m</td>\n",
       "      <td>1</td>\n",
       "      <td>Air New Zealand</td>\n",
       "      <td>263</td>\n",
       "      <td>17</td>\n",
       "      <td>11</td>\n",
       "      <td>10</td>\n",
       "      <td>0</td>\n",
       "      <td>19</td>\n",
       "      <td>20</td>\n",
       "      <td>9</td>\n",
       "      <td>20</td>\n",
       "    </tr>\n",
       "    <tr>\n",
       "      <th>8953</th>\n",
       "      <td>23/09/2019</td>\n",
       "      <td>WLG</td>\n",
       "      <td>2:45 PM</td>\n",
       "      <td>CHC</td>\n",
       "      <td>6:25 PM</td>\n",
       "      <td>3h 40m</td>\n",
       "      <td>1</td>\n",
       "      <td>Air New Zealand</td>\n",
       "      <td>272</td>\n",
       "      <td>23</td>\n",
       "      <td>9</td>\n",
       "      <td>14</td>\n",
       "      <td>45</td>\n",
       "      <td>18</td>\n",
       "      <td>25</td>\n",
       "      <td>3</td>\n",
       "      <td>40</td>\n",
       "    </tr>\n",
       "    <tr>\n",
       "      <th>144252</th>\n",
       "      <td>3/12/2019</td>\n",
       "      <td>WLG</td>\n",
       "      <td>12:35 PM</td>\n",
       "      <td>NSN</td>\n",
       "      <td>5:10 PM</td>\n",
       "      <td>4h 35m</td>\n",
       "      <td>1</td>\n",
       "      <td>Air New Zealand</td>\n",
       "      <td>412</td>\n",
       "      <td>3</td>\n",
       "      <td>12</td>\n",
       "      <td>12</td>\n",
       "      <td>35</td>\n",
       "      <td>17</td>\n",
       "      <td>10</td>\n",
       "      <td>4</td>\n",
       "      <td>35</td>\n",
       "    </tr>\n",
       "    <tr>\n",
       "      <th>70032</th>\n",
       "      <td>25/10/2019</td>\n",
       "      <td>AKL</td>\n",
       "      <td>1:20 PM</td>\n",
       "      <td>CHC</td>\n",
       "      <td>9:15 PM</td>\n",
       "      <td>7h 55m</td>\n",
       "      <td>1</td>\n",
       "      <td>Air New Zealand</td>\n",
       "      <td>472</td>\n",
       "      <td>25</td>\n",
       "      <td>10</td>\n",
       "      <td>13</td>\n",
       "      <td>20</td>\n",
       "      <td>21</td>\n",
       "      <td>15</td>\n",
       "      <td>7</td>\n",
       "      <td>55</td>\n",
       "    </tr>\n",
       "    <tr>\n",
       "      <th>78753</th>\n",
       "      <td>29/10/2019</td>\n",
       "      <td>AKL</td>\n",
       "      <td>8:30 PM</td>\n",
       "      <td>ZQN</td>\n",
       "      <td>11:10 AM</td>\n",
       "      <td>14h 40m</td>\n",
       "      <td>1</td>\n",
       "      <td>Air New Zealand</td>\n",
       "      <td>302</td>\n",
       "      <td>29</td>\n",
       "      <td>10</td>\n",
       "      <td>20</td>\n",
       "      <td>30</td>\n",
       "      <td>11</td>\n",
       "      <td>10</td>\n",
       "      <td>14</td>\n",
       "      <td>40</td>\n",
       "    </tr>\n",
       "  </tbody>\n",
       "</table>\n",
       "</div>"
      ],
      "text/plain": [
       "       Date_of_Journey Source  Dep_Time Destination Arrival_Time Duration  \\\n",
       "115553      17/11/2019    AKL  10:00 AM         NSN      7:20 PM   9h 20m   \n",
       "8953        23/09/2019    WLG   2:45 PM         CHC      6:25 PM   3h 40m   \n",
       "144252       3/12/2019    WLG  12:35 PM         NSN      5:10 PM   4h 35m   \n",
       "70032       25/10/2019    AKL   1:20 PM         CHC      9:15 PM   7h 55m   \n",
       "78753       29/10/2019    AKL   8:30 PM         ZQN     11:10 AM  14h 40m   \n",
       "\n",
       "        Total_Stops          Airline  Price  Journey_day  Journey_month  \\\n",
       "115553            1  Air New Zealand    263           17             11   \n",
       "8953              1  Air New Zealand    272           23              9   \n",
       "144252            1  Air New Zealand    412            3             12   \n",
       "70032             1  Air New Zealand    472           25             10   \n",
       "78753             1  Air New Zealand    302           29             10   \n",
       "\n",
       "        Dep_hour  Dep_min  Arrival_hour  Arrival_min  Duration_hours  \\\n",
       "115553        10        0            19           20               9   \n",
       "8953          14       45            18           25               3   \n",
       "144252        12       35            17           10               4   \n",
       "70032         13       20            21           15               7   \n",
       "78753         20       30            11           10              14   \n",
       "\n",
       "        Duration_mins  \n",
       "115553             20  \n",
       "8953               40  \n",
       "144252             35  \n",
       "70032              55  \n",
       "78753              40  "
      ]
     },
     "execution_count": 38,
     "metadata": {},
     "output_type": "execute_result"
    }
   ],
   "source": [
    "train_data.head()"
   ]
  },
  {
   "cell_type": "code",
   "execution_count": 39,
   "id": "b9c0521a",
   "metadata": {
    "scrolled": true
   },
   "outputs": [
    {
     "data": {
      "text/plain": [
       "Index(['Date_of_Journey', 'Source', 'Dep_Time', 'Destination', 'Arrival_Time',\n",
       "       'Duration', 'Total_Stops', 'Airline', 'Price', 'Journey_day',\n",
       "       'Journey_month', 'Dep_hour', 'Dep_min', 'Arrival_hour', 'Arrival_min',\n",
       "       'Duration_hours', 'Duration_mins'],\n",
       "      dtype='object')"
      ]
     },
     "execution_count": 39,
     "metadata": {},
     "output_type": "execute_result"
    }
   ],
   "source": [
    "train_data.columns"
   ]
  },
  {
   "cell_type": "code",
   "execution_count": 40,
   "id": "4de5fcf4",
   "metadata": {
    "scrolled": true
   },
   "outputs": [],
   "source": [
    "data_train = pd.concat([train_data, Airline, Departure, Destination], axis = 1)"
   ]
  },
  {
   "cell_type": "code",
   "execution_count": 41,
   "id": "6f7683fd",
   "metadata": {},
   "outputs": [
    {
     "data": {
      "text/plain": [
       "(4533, 30)"
      ]
     },
     "execution_count": 41,
     "metadata": {},
     "output_type": "execute_result"
    }
   ],
   "source": [
    "data_train.shape"
   ]
  },
  {
   "cell_type": "code",
   "execution_count": 42,
   "id": "49b2d7c7",
   "metadata": {},
   "outputs": [
    {
     "data": {
      "text/plain": [
       "Index(['Date_of_Journey', 'Source', 'Dep_Time', 'Destination', 'Arrival_Time',\n",
       "       'Duration', 'Total_Stops', 'Airline', 'Price', 'Journey_day',\n",
       "       'Journey_month', 'Dep_hour', 'Dep_min', 'Arrival_hour', 'Arrival_min',\n",
       "       'Duration_hours', 'Duration_mins', 'Air New Zealand', 'Jetstar',\n",
       "       'Source_AKL', 'Source_CHC', 'Source_WLG', 'Destination_AKL',\n",
       "       'Destination_CHC', 'Destination_DUD', 'Destination_NPE',\n",
       "       'Destination_NPL', 'Destination_NSN', 'Destination_PMR',\n",
       "       'Destination_ZQN'],\n",
       "      dtype='object')"
      ]
     },
     "execution_count": 42,
     "metadata": {},
     "output_type": "execute_result"
    }
   ],
   "source": [
    "data_train.columns"
   ]
  },
  {
   "cell_type": "code",
   "execution_count": 43,
   "id": "a7a4b0f0",
   "metadata": {},
   "outputs": [],
   "source": [
    "#data_train.drop([\"Airline\", \"Departure\", \"Destination\"], axis = 1, inplace = True)"
   ]
  },
  {
   "cell_type": "code",
   "execution_count": 44,
   "id": "845e0266",
   "metadata": {},
   "outputs": [
    {
     "data": {
      "text/html": [
       "<div>\n",
       "<style scoped>\n",
       "    .dataframe tbody tr th:only-of-type {\n",
       "        vertical-align: middle;\n",
       "    }\n",
       "\n",
       "    .dataframe tbody tr th {\n",
       "        vertical-align: top;\n",
       "    }\n",
       "\n",
       "    .dataframe thead th {\n",
       "        text-align: right;\n",
       "    }\n",
       "</style>\n",
       "<table border=\"1\" class=\"dataframe\">\n",
       "  <thead>\n",
       "    <tr style=\"text-align: right;\">\n",
       "      <th></th>\n",
       "      <th>Date_of_Journey</th>\n",
       "      <th>Source</th>\n",
       "      <th>Dep_Time</th>\n",
       "      <th>Destination</th>\n",
       "      <th>Arrival_Time</th>\n",
       "      <th>Duration</th>\n",
       "      <th>Total_Stops</th>\n",
       "      <th>Airline</th>\n",
       "      <th>Price</th>\n",
       "      <th>Journey_day</th>\n",
       "      <th>...</th>\n",
       "      <th>Source_CHC</th>\n",
       "      <th>Source_WLG</th>\n",
       "      <th>Destination_AKL</th>\n",
       "      <th>Destination_CHC</th>\n",
       "      <th>Destination_DUD</th>\n",
       "      <th>Destination_NPE</th>\n",
       "      <th>Destination_NPL</th>\n",
       "      <th>Destination_NSN</th>\n",
       "      <th>Destination_PMR</th>\n",
       "      <th>Destination_ZQN</th>\n",
       "    </tr>\n",
       "  </thead>\n",
       "  <tbody>\n",
       "    <tr>\n",
       "      <th>115553</th>\n",
       "      <td>17/11/2019</td>\n",
       "      <td>AKL</td>\n",
       "      <td>10:00 AM</td>\n",
       "      <td>NSN</td>\n",
       "      <td>7:20 PM</td>\n",
       "      <td>9h 20m</td>\n",
       "      <td>1</td>\n",
       "      <td>Air New Zealand</td>\n",
       "      <td>263</td>\n",
       "      <td>17</td>\n",
       "      <td>...</td>\n",
       "      <td>0</td>\n",
       "      <td>0</td>\n",
       "      <td>0</td>\n",
       "      <td>0</td>\n",
       "      <td>0</td>\n",
       "      <td>0</td>\n",
       "      <td>0</td>\n",
       "      <td>1</td>\n",
       "      <td>0</td>\n",
       "      <td>0</td>\n",
       "    </tr>\n",
       "    <tr>\n",
       "      <th>8953</th>\n",
       "      <td>23/09/2019</td>\n",
       "      <td>WLG</td>\n",
       "      <td>2:45 PM</td>\n",
       "      <td>CHC</td>\n",
       "      <td>6:25 PM</td>\n",
       "      <td>3h 40m</td>\n",
       "      <td>1</td>\n",
       "      <td>Air New Zealand</td>\n",
       "      <td>272</td>\n",
       "      <td>23</td>\n",
       "      <td>...</td>\n",
       "      <td>0</td>\n",
       "      <td>1</td>\n",
       "      <td>0</td>\n",
       "      <td>1</td>\n",
       "      <td>0</td>\n",
       "      <td>0</td>\n",
       "      <td>0</td>\n",
       "      <td>0</td>\n",
       "      <td>0</td>\n",
       "      <td>0</td>\n",
       "    </tr>\n",
       "    <tr>\n",
       "      <th>144252</th>\n",
       "      <td>3/12/2019</td>\n",
       "      <td>WLG</td>\n",
       "      <td>12:35 PM</td>\n",
       "      <td>NSN</td>\n",
       "      <td>5:10 PM</td>\n",
       "      <td>4h 35m</td>\n",
       "      <td>1</td>\n",
       "      <td>Air New Zealand</td>\n",
       "      <td>412</td>\n",
       "      <td>3</td>\n",
       "      <td>...</td>\n",
       "      <td>0</td>\n",
       "      <td>1</td>\n",
       "      <td>0</td>\n",
       "      <td>0</td>\n",
       "      <td>0</td>\n",
       "      <td>0</td>\n",
       "      <td>0</td>\n",
       "      <td>1</td>\n",
       "      <td>0</td>\n",
       "      <td>0</td>\n",
       "    </tr>\n",
       "    <tr>\n",
       "      <th>70032</th>\n",
       "      <td>25/10/2019</td>\n",
       "      <td>AKL</td>\n",
       "      <td>1:20 PM</td>\n",
       "      <td>CHC</td>\n",
       "      <td>9:15 PM</td>\n",
       "      <td>7h 55m</td>\n",
       "      <td>1</td>\n",
       "      <td>Air New Zealand</td>\n",
       "      <td>472</td>\n",
       "      <td>25</td>\n",
       "      <td>...</td>\n",
       "      <td>0</td>\n",
       "      <td>0</td>\n",
       "      <td>0</td>\n",
       "      <td>1</td>\n",
       "      <td>0</td>\n",
       "      <td>0</td>\n",
       "      <td>0</td>\n",
       "      <td>0</td>\n",
       "      <td>0</td>\n",
       "      <td>0</td>\n",
       "    </tr>\n",
       "    <tr>\n",
       "      <th>78753</th>\n",
       "      <td>29/10/2019</td>\n",
       "      <td>AKL</td>\n",
       "      <td>8:30 PM</td>\n",
       "      <td>ZQN</td>\n",
       "      <td>11:10 AM</td>\n",
       "      <td>14h 40m</td>\n",
       "      <td>1</td>\n",
       "      <td>Air New Zealand</td>\n",
       "      <td>302</td>\n",
       "      <td>29</td>\n",
       "      <td>...</td>\n",
       "      <td>0</td>\n",
       "      <td>0</td>\n",
       "      <td>0</td>\n",
       "      <td>0</td>\n",
       "      <td>0</td>\n",
       "      <td>0</td>\n",
       "      <td>0</td>\n",
       "      <td>0</td>\n",
       "      <td>0</td>\n",
       "      <td>1</td>\n",
       "    </tr>\n",
       "  </tbody>\n",
       "</table>\n",
       "<p>5 rows × 30 columns</p>\n",
       "</div>"
      ],
      "text/plain": [
       "       Date_of_Journey Source  Dep_Time Destination Arrival_Time Duration  \\\n",
       "115553      17/11/2019    AKL  10:00 AM         NSN      7:20 PM   9h 20m   \n",
       "8953        23/09/2019    WLG   2:45 PM         CHC      6:25 PM   3h 40m   \n",
       "144252       3/12/2019    WLG  12:35 PM         NSN      5:10 PM   4h 35m   \n",
       "70032       25/10/2019    AKL   1:20 PM         CHC      9:15 PM   7h 55m   \n",
       "78753       29/10/2019    AKL   8:30 PM         ZQN     11:10 AM  14h 40m   \n",
       "\n",
       "        Total_Stops          Airline  Price  Journey_day  ...  Source_CHC  \\\n",
       "115553            1  Air New Zealand    263           17  ...           0   \n",
       "8953              1  Air New Zealand    272           23  ...           0   \n",
       "144252            1  Air New Zealand    412            3  ...           0   \n",
       "70032             1  Air New Zealand    472           25  ...           0   \n",
       "78753             1  Air New Zealand    302           29  ...           0   \n",
       "\n",
       "        Source_WLG  Destination_AKL  Destination_CHC  Destination_DUD  \\\n",
       "115553           0                0                0                0   \n",
       "8953             1                0                1                0   \n",
       "144252           1                0                0                0   \n",
       "70032            0                0                1                0   \n",
       "78753            0                0                0                0   \n",
       "\n",
       "        Destination_NPE  Destination_NPL  Destination_NSN  Destination_PMR  \\\n",
       "115553                0                0                1                0   \n",
       "8953                  0                0                0                0   \n",
       "144252                0                0                1                0   \n",
       "70032                 0                0                0                0   \n",
       "78753                 0                0                0                0   \n",
       "\n",
       "        Destination_ZQN  \n",
       "115553                0  \n",
       "8953                  0  \n",
       "144252                0  \n",
       "70032                 0  \n",
       "78753                 1  \n",
       "\n",
       "[5 rows x 30 columns]"
      ]
     },
     "execution_count": 44,
     "metadata": {},
     "output_type": "execute_result"
    }
   ],
   "source": [
    "data_train.head()"
   ]
  },
  {
   "cell_type": "markdown",
   "id": "64a10df9",
   "metadata": {},
   "source": [
    "### Test Set"
   ]
  },
  {
   "cell_type": "code",
   "execution_count": 45,
   "id": "260eeb1e",
   "metadata": {},
   "outputs": [
    {
     "data": {
      "text/html": [
       "<div>\n",
       "<style scoped>\n",
       "    .dataframe tbody tr th:only-of-type {\n",
       "        vertical-align: middle;\n",
       "    }\n",
       "\n",
       "    .dataframe tbody tr th {\n",
       "        vertical-align: top;\n",
       "    }\n",
       "\n",
       "    .dataframe thead th {\n",
       "        text-align: right;\n",
       "    }\n",
       "</style>\n",
       "<table border=\"1\" class=\"dataframe\">\n",
       "  <thead>\n",
       "    <tr style=\"text-align: right;\">\n",
       "      <th></th>\n",
       "      <th>Date_of_Journey</th>\n",
       "      <th>Source</th>\n",
       "      <th>Dep_Time</th>\n",
       "      <th>Destination</th>\n",
       "      <th>Arrival_Time</th>\n",
       "      <th>Duration</th>\n",
       "      <th>Total_Stops</th>\n",
       "      <th>Transit</th>\n",
       "      <th>Airline</th>\n",
       "      <th>Price</th>\n",
       "    </tr>\n",
       "  </thead>\n",
       "  <tbody>\n",
       "    <tr>\n",
       "      <th>11110</th>\n",
       "      <td>24/09/2019</td>\n",
       "      <td>ZQN</td>\n",
       "      <td>11:40 AM</td>\n",
       "      <td>NPE</td>\n",
       "      <td>7:50 PM</td>\n",
       "      <td>8h 10m</td>\n",
       "      <td>(1 stop)</td>\n",
       "      <td>5h 35m in CHC</td>\n",
       "      <td>Air New Zealand</td>\n",
       "      <td>283</td>\n",
       "    </tr>\n",
       "    <tr>\n",
       "      <th>152933</th>\n",
       "      <td>10/12/2019</td>\n",
       "      <td>WLG</td>\n",
       "      <td>11:30 AM</td>\n",
       "      <td>NSN</td>\n",
       "      <td>12:10 PM</td>\n",
       "      <td>40m</td>\n",
       "      <td>(Direct)</td>\n",
       "      <td>0</td>\n",
       "      <td>Air New Zealand</td>\n",
       "      <td>183</td>\n",
       "    </tr>\n",
       "    <tr>\n",
       "      <th>43738</th>\n",
       "      <td>10/10/2019</td>\n",
       "      <td>WLG</td>\n",
       "      <td>2:00 PM</td>\n",
       "      <td>AKL</td>\n",
       "      <td>5:35 PM</td>\n",
       "      <td>3h 35m</td>\n",
       "      <td>(1 stop)</td>\n",
       "      <td>1h 30m in NSN</td>\n",
       "      <td>Air New Zealand</td>\n",
       "      <td>536</td>\n",
       "    </tr>\n",
       "    <tr>\n",
       "      <th>137761</th>\n",
       "      <td>29/11/2019</td>\n",
       "      <td>AKL</td>\n",
       "      <td>8:00 PM</td>\n",
       "      <td>NPL</td>\n",
       "      <td>9:25 AM</td>\n",
       "      <td>13h 25m</td>\n",
       "      <td>(1 stop)</td>\n",
       "      <td>11h 15m in WLG</td>\n",
       "      <td>Air New Zealand</td>\n",
       "      <td>402</td>\n",
       "    </tr>\n",
       "    <tr>\n",
       "      <th>47810</th>\n",
       "      <td>12/10/2019</td>\n",
       "      <td>WLG</td>\n",
       "      <td>1:35 PM</td>\n",
       "      <td>DUD</td>\n",
       "      <td>5:05 PM</td>\n",
       "      <td>3h 30m</td>\n",
       "      <td>(1 stop)</td>\n",
       "      <td>1h 25m in CHC</td>\n",
       "      <td>Air New Zealand</td>\n",
       "      <td>433</td>\n",
       "    </tr>\n",
       "  </tbody>\n",
       "</table>\n",
       "</div>"
      ],
      "text/plain": [
       "       Date_of_Journey Source  Dep_Time Destination Arrival_Time Duration  \\\n",
       "11110       24/09/2019    ZQN  11:40 AM         NPE      7:50 PM   8h 10m   \n",
       "152933      10/12/2019    WLG  11:30 AM         NSN     12:10 PM      40m   \n",
       "43738       10/10/2019    WLG   2:00 PM         AKL      5:35 PM   3h 35m   \n",
       "137761      29/11/2019    AKL   8:00 PM         NPL      9:25 AM  13h 25m   \n",
       "47810       12/10/2019    WLG   1:35 PM         DUD      5:05 PM   3h 30m   \n",
       "\n",
       "       Total_Stops         Transit          Airline  Price  \n",
       "11110     (1 stop)   5h 35m in CHC  Air New Zealand    283  \n",
       "152933    (Direct)               0  Air New Zealand    183  \n",
       "43738     (1 stop)   1h 30m in NSN  Air New Zealand    536  \n",
       "137761    (1 stop)  11h 15m in WLG  Air New Zealand    402  \n",
       "47810     (1 stop)   1h 25m in CHC  Air New Zealand    433  "
      ]
     },
     "execution_count": 45,
     "metadata": {},
     "output_type": "execute_result"
    }
   ],
   "source": [
    "test_data.head()"
   ]
  },
  {
   "cell_type": "code",
   "execution_count": 46,
   "id": "f20c2122",
   "metadata": {},
   "outputs": [
    {
     "name": "stdout",
     "output_type": "stream",
     "text": [
      "Test data Info\n",
      "---------------------------------------------------------------------------\n",
      "<class 'pandas.core.frame.DataFrame'>\n",
      "Int64Index: 1134 entries, 11110 to 22166\n",
      "Data columns (total 10 columns):\n",
      " #   Column           Non-Null Count  Dtype \n",
      "---  ------           --------------  ----- \n",
      " 0   Date_of_Journey  1134 non-null   object\n",
      " 1   Source           1134 non-null   object\n",
      " 2   Dep_Time         1134 non-null   object\n",
      " 3   Destination      1134 non-null   object\n",
      " 4   Arrival_Time     1134 non-null   object\n",
      " 5   Duration         1134 non-null   object\n",
      " 6   Total_Stops      1134 non-null   object\n",
      " 7   Transit          1134 non-null   object\n",
      " 8   Airline          1134 non-null   object\n",
      " 9   Price            1134 non-null   int64 \n",
      "dtypes: int64(1), object(9)\n",
      "memory usage: 97.5+ KB\n",
      "None\n",
      "\n",
      "\n",
      "Null values :\n",
      "---------------------------------------------------------------------------\n",
      "Date_of_Journey    0\n",
      "Source             0\n",
      "Dep_Time           0\n",
      "Destination        0\n",
      "Arrival_Time       0\n",
      "Duration           0\n",
      "Total_Stops        0\n",
      "Transit            0\n",
      "Airline            0\n",
      "Price              0\n",
      "dtype: int64\n",
      "Source\n"
     ]
    },
    {
     "name": "stderr",
     "output_type": "stream",
     "text": [
      "<ipython-input-46-8165862ef515>:10: SettingWithCopyWarning: \n",
      "A value is trying to be set on a copy of a slice from a DataFrame\n",
      "\n",
      "See the caveats in the documentation: https://pandas.pydata.org/pandas-docs/stable/user_guide/indexing.html#returning-a-view-versus-a-copy\n",
      "  test_data.dropna(inplace = True)\n",
      "<ipython-input-46-8165862ef515>:20: SettingWithCopyWarning: \n",
      "A value is trying to be set on a copy of a slice from a DataFrame.\n",
      "Try using .loc[row_indexer,col_indexer] = value instead\n",
      "\n",
      "See the caveats in the documentation: https://pandas.pydata.org/pandas-docs/stable/user_guide/indexing.html#returning-a-view-versus-a-copy\n",
      "  test_data[\"Journey_day\"] = pd.to_datetime(test_data.Date_of_Journey, format=\"%d/%m/%Y\").dt.day\n",
      "<ipython-input-46-8165862ef515>:21: SettingWithCopyWarning: \n",
      "A value is trying to be set on a copy of a slice from a DataFrame.\n",
      "Try using .loc[row_indexer,col_indexer] = value instead\n",
      "\n",
      "See the caveats in the documentation: https://pandas.pydata.org/pandas-docs/stable/user_guide/indexing.html#returning-a-view-versus-a-copy\n",
      "  test_data[\"Journey_month\"] = pd.to_datetime(test_data[\"Date_of_Journey\"], format = \"%d/%m/%Y\").dt.month\n",
      "<ipython-input-46-8165862ef515>:28: SettingWithCopyWarning: \n",
      "A value is trying to be set on a copy of a slice from a DataFrame.\n",
      "Try using .loc[row_indexer,col_indexer] = value instead\n",
      "\n",
      "See the caveats in the documentation: https://pandas.pydata.org/pandas-docs/stable/user_guide/indexing.html#returning-a-view-versus-a-copy\n",
      "  test_data[\"Dep_hour\"] = pd.to_datetime(test_data[\"Dep_Time\"]).dt.hour\n",
      "<ipython-input-46-8165862ef515>:31: SettingWithCopyWarning: \n",
      "A value is trying to be set on a copy of a slice from a DataFrame.\n",
      "Try using .loc[row_indexer,col_indexer] = value instead\n",
      "\n",
      "See the caveats in the documentation: https://pandas.pydata.org/pandas-docs/stable/user_guide/indexing.html#returning-a-view-versus-a-copy\n",
      "  test_data[\"Dep_min\"] = pd.to_datetime(test_data[\"Dep_Time\"]).dt.minute\n",
      "<ipython-input-46-8165862ef515>:40: SettingWithCopyWarning: \n",
      "A value is trying to be set on a copy of a slice from a DataFrame.\n",
      "Try using .loc[row_indexer,col_indexer] = value instead\n",
      "\n",
      "See the caveats in the documentation: https://pandas.pydata.org/pandas-docs/stable/user_guide/indexing.html#returning-a-view-versus-a-copy\n",
      "  test_data[\"Arrival_hour\"] = pd.to_datetime(test_data[\"Arrival_Time\"]).dt.hour\n",
      "<ipython-input-46-8165862ef515>:43: SettingWithCopyWarning: \n",
      "A value is trying to be set on a copy of a slice from a DataFrame.\n",
      "Try using .loc[row_indexer,col_indexer] = value instead\n",
      "\n",
      "See the caveats in the documentation: https://pandas.pydata.org/pandas-docs/stable/user_guide/indexing.html#returning-a-view-versus-a-copy\n",
      "  test_data[\"Arrival_min\"] = pd.to_datetime(test_data[\"Arrival_Time\"]).dt.minute\n",
      "<ipython-input-46-8165862ef515>:72: SettingWithCopyWarning: \n",
      "A value is trying to be set on a copy of a slice from a DataFrame.\n",
      "Try using .loc[row_indexer,col_indexer] = value instead\n",
      "\n",
      "See the caveats in the documentation: https://pandas.pydata.org/pandas-docs/stable/user_guide/indexing.html#returning-a-view-versus-a-copy\n",
      "  test_data[\"Duration_hours\"] = duration_hours\n",
      "<ipython-input-46-8165862ef515>:73: SettingWithCopyWarning: \n",
      "A value is trying to be set on a copy of a slice from a DataFrame.\n",
      "Try using .loc[row_indexer,col_indexer] = value instead\n",
      "\n",
      "See the caveats in the documentation: https://pandas.pydata.org/pandas-docs/stable/user_guide/indexing.html#returning-a-view-versus-a-copy\n",
      "  test_data[\"Duration_mins\"] = duration_mins\n",
      "C:\\Users\\alexchen\\anaconda3\\lib\\site-packages\\pandas\\core\\frame.py:4524: SettingWithCopyWarning: \n",
      "A value is trying to be set on a copy of a slice from a DataFrame\n",
      "\n",
      "See the caveats in the documentation: https://pandas.pydata.org/pandas-docs/stable/user_guide/indexing.html#returning-a-view-versus-a-copy\n",
      "  return super().replace(\n"
     ]
    },
    {
     "data": {
      "image/png": "[encoded data removed]",
      "text/plain": [
       "<Figure size 864x288 with 1 Axes>"
      ]
     },
     "metadata": {},
     "output_type": "display_data"
    },
    {
     "name": "stdout",
     "output_type": "stream",
     "text": [
      "Destination\n"
     ]
    },
    {
     "data": {
      "image/png": "[encoded data removed]",
      "text/plain": [
       "<Figure size 864x288 with 1 Axes>"
      ]
     },
     "metadata": {},
     "output_type": "display_data"
    },
    {
     "data": {
      "image/png": "[encoded data removed]",
      "text/plain": [
       "<Figure size 1296x432 with 1 Axes>"
      ]
     },
     "metadata": {},
     "output_type": "display_data"
    },
    {
     "name": "stdout",
     "output_type": "stream",
     "text": [
      "Airline\n",
      "Shape of test data :  (1134, 31)\n"
     ]
    }
   ],
   "source": [
    "print(\"Test data Info\")\n",
    "print(\"-\"*75)\n",
    "print(test_data.info())\n",
    "\n",
    "print()\n",
    "print()\n",
    "\n",
    "print(\"Null values :\")\n",
    "print(\"-\"*75)\n",
    "test_data.dropna(inplace = True)\n",
    "print(test_data.isnull().sum())\n",
    "\n",
    "#Remove transit\n",
    "\n",
    "#test_data=test_data.drop(columns=['Transit'])\n",
    "\n",
    "\n",
    "# Travel Date\n",
    "\n",
    "test_data[\"Journey_day\"] = pd.to_datetime(test_data.Date_of_Journey, format=\"%d/%m/%Y\").dt.day\n",
    "test_data[\"Journey_month\"] = pd.to_datetime(test_data[\"Date_of_Journey\"], format = \"%d/%m/%Y\").dt.month\n",
    "#test_data.drop([\"Date_of_Journey\"], axis = 1, inplace = True)\n",
    "\n",
    "# Departure time is when a plane leaves the gate. \n",
    "# Similar to Date_of_Journey we can extract values from Dep_Time\n",
    "\n",
    "# Extracting Hours\n",
    "test_data[\"Dep_hour\"] = pd.to_datetime(test_data[\"Dep_Time\"]).dt.hour\n",
    "\n",
    "# Extracting Minutes\n",
    "test_data[\"Dep_min\"] = pd.to_datetime(test_data[\"Dep_Time\"]).dt.minute\n",
    "\n",
    "# Now we can drop Dep_Time as it is of no use\n",
    "#test_data.drop([\"Dep_Time\"], axis = 1, inplace = True)\n",
    "\n",
    "# Arrival time is when the plane pulls up to the gate.\n",
    "# Similar to Date_of_Journey we can extract values from Arrival_Time\n",
    "\n",
    "# Extracting Hours\n",
    "test_data[\"Arrival_hour\"] = pd.to_datetime(test_data[\"Arrival_Time\"]).dt.hour\n",
    "\n",
    "# Extracting Minutes\n",
    "test_data[\"Arrival_min\"] = pd.to_datetime(test_data[\"Arrival_Time\"]).dt.minute\n",
    "\n",
    "# Now we can drop Arrival_Time as it is of no use\n",
    "#test_data.drop([\"Arrival_Time\"], axis = 1, inplace = True)\n",
    "\n",
    "\n",
    "# Time taken by plane to reach destination is called Duration\n",
    "# It is the differnce betwwen Departure Time and Arrival time\n",
    "\n",
    "\n",
    "# Assigning and converting Duration column into list\n",
    "duration = list(test_data[\"Duration\"])\n",
    "\n",
    "for i in range(len(duration)):\n",
    "    if len(duration[i].split()) != 2:    # Check if duration contains only hour or mins\n",
    "        if \"h\" in duration[i]:\n",
    "            duration[i] = duration[i].strip() + \" 0m\"   # Adds 0 minute\n",
    "        else:\n",
    "            duration[i] = \"0h \" + duration[i]           # Adds 0 hour\n",
    "\n",
    "duration_hours = []\n",
    "duration_mins = []\n",
    "for i in range(len(duration)):\n",
    "    duration_hours.append(int(duration[i].split(sep = \"h\")[0]))    # Extract hours from duration\n",
    "    duration_mins.append(int(duration[i].split(sep = \"m\")[0].split()[-1]))   # Extracts only minutes from duration\n",
    "\n",
    "\n",
    "# Adding duration_hours and duration_mins list to test_data dataframe\n",
    "\n",
    "test_data[\"Duration_hours\"] = duration_hours\n",
    "test_data[\"Duration_mins\"] = duration_mins\n",
    "\n",
    "#test_data.drop([\"Duration\"], axis = 1, inplace = True)\n",
    "\n",
    "test_data[\"Total_Stops\"].value_counts()\n",
    "\n",
    "# As this is case of Ordinal Categorical type we perform LabelEncoder\n",
    "# Here Values are assigned with corresponding keys\n",
    "\n",
    "test_data.replace({\"(Direct)\": 0, \"(1 stop)\": 1, \"(2 stops)\": 2, \"(3 stops)\": 3}, inplace = True)\n",
    "\n",
    "test_data['Source'].value_counts()\n",
    "\n",
    "print(\"Source\")\n",
    "\n",
    "# Departure vs Price\n",
    "\n",
    "sns.catplot(y = \"Price\", x = \"Source\", data = test_data.sort_values(\"Price\", ascending = False), kind=\"box\", height = 4, aspect = 3)\n",
    "plt.show()\n",
    "\n",
    "# As Departure is Nominal Categorical data we will perform OneHotEncoding\n",
    "\n",
    "Departure = test_data[\"Source\"].str.get_dummies().drop('ZQN',axis=1).add_prefix('Source_')\n",
    "\n",
    "#Departure = pd.get_dummies(Departure)\n",
    "\n",
    "Departure.head()\n",
    "test_data['Destination'].value_counts()\n",
    "\n",
    "# As Destination is Nominal Categorical data we will perform OneHotEncoding - drop WLG\n",
    "\n",
    "Destination = test_data[\"Destination\"].str.get_dummies().drop('WLG',axis=1).add_prefix('Destination_')\n",
    "\n",
    "#Destination = pd.get_dummies(Destination)\n",
    "\n",
    "print(\"Destination\")\n",
    "\n",
    "# Departure vs Price\n",
    "\n",
    "sns.catplot(y = \"Price\", x = \"Destination\", data = test_data.sort_values(\"Price\", ascending = False), kind=\"box\", height = 4, aspect = 3)\n",
    "plt.show()\n",
    "\n",
    "# From graph we can see that Jet Airways Business have the highest Price.\n",
    "# Apart from the first Airline almost all are having similar median\n",
    "\n",
    "# Airline vs Price\n",
    "sns.catplot(y = \"Price\", x = \"Airline\", data = test_data.sort_values(\"Price\", ascending = False), kind=\"box\", height = 6, aspect = 3)\n",
    "plt.show()\n",
    "\n",
    "# As Airline is Nominal Categorical data we will perform OneHotEncoding - avoid Multicollinearity\n",
    "\n",
    "Airline=test_data[\"Airline\"].str.get_dummies().drop('Sounds Air',axis=1)\n",
    "Airline = pd.get_dummies(Airline)\n",
    "\n",
    "print(\"Airline\")\n",
    "\n",
    "#test_data[\"Transit\"].value_counts()\n",
    "\n",
    "data_test = pd.concat([test_data, Airline, Departure, Destination], axis = 1)\n",
    "\n",
    "#test_data_v2.drop([\"Airline\", \"Departure\", \"Destination\"], axis = 1, inplace = True)\n",
    "\n",
    "\n",
    "print(\"Shape of test data : \", data_test.shape)\n"
   ]
  },
  {
   "cell_type": "code",
   "execution_count": 47,
   "id": "57e33f49",
   "metadata": {},
   "outputs": [
    {
     "data": {
      "text/html": [
       "<div>\n",
       "<style scoped>\n",
       "    .dataframe tbody tr th:only-of-type {\n",
       "        vertical-align: middle;\n",
       "    }\n",
       "\n",
       "    .dataframe tbody tr th {\n",
       "        vertical-align: top;\n",
       "    }\n",
       "\n",
       "    .dataframe thead th {\n",
       "        text-align: right;\n",
       "    }\n",
       "</style>\n",
       "<table border=\"1\" class=\"dataframe\">\n",
       "  <thead>\n",
       "    <tr style=\"text-align: right;\">\n",
       "      <th></th>\n",
       "      <th>Date_of_Journey</th>\n",
       "      <th>Source</th>\n",
       "      <th>Dep_Time</th>\n",
       "      <th>Destination</th>\n",
       "      <th>Arrival_Time</th>\n",
       "      <th>Duration</th>\n",
       "      <th>Total_Stops</th>\n",
       "      <th>Transit</th>\n",
       "      <th>Airline</th>\n",
       "      <th>Price</th>\n",
       "      <th>...</th>\n",
       "      <th>Source_CHC</th>\n",
       "      <th>Source_WLG</th>\n",
       "      <th>Destination_AKL</th>\n",
       "      <th>Destination_CHC</th>\n",
       "      <th>Destination_DUD</th>\n",
       "      <th>Destination_NPE</th>\n",
       "      <th>Destination_NPL</th>\n",
       "      <th>Destination_NSN</th>\n",
       "      <th>Destination_PMR</th>\n",
       "      <th>Destination_ZQN</th>\n",
       "    </tr>\n",
       "  </thead>\n",
       "  <tbody>\n",
       "    <tr>\n",
       "      <th>11110</th>\n",
       "      <td>24/09/2019</td>\n",
       "      <td>ZQN</td>\n",
       "      <td>11:40 AM</td>\n",
       "      <td>NPE</td>\n",
       "      <td>7:50 PM</td>\n",
       "      <td>8h 10m</td>\n",
       "      <td>1</td>\n",
       "      <td>5h 35m in CHC</td>\n",
       "      <td>Air New Zealand</td>\n",
       "      <td>283</td>\n",
       "      <td>...</td>\n",
       "      <td>0</td>\n",
       "      <td>0</td>\n",
       "      <td>0</td>\n",
       "      <td>0</td>\n",
       "      <td>0</td>\n",
       "      <td>1</td>\n",
       "      <td>0</td>\n",
       "      <td>0</td>\n",
       "      <td>0</td>\n",
       "      <td>0</td>\n",
       "    </tr>\n",
       "    <tr>\n",
       "      <th>152933</th>\n",
       "      <td>10/12/2019</td>\n",
       "      <td>WLG</td>\n",
       "      <td>11:30 AM</td>\n",
       "      <td>NSN</td>\n",
       "      <td>12:10 PM</td>\n",
       "      <td>40m</td>\n",
       "      <td>0</td>\n",
       "      <td>0</td>\n",
       "      <td>Air New Zealand</td>\n",
       "      <td>183</td>\n",
       "      <td>...</td>\n",
       "      <td>0</td>\n",
       "      <td>1</td>\n",
       "      <td>0</td>\n",
       "      <td>0</td>\n",
       "      <td>0</td>\n",
       "      <td>0</td>\n",
       "      <td>0</td>\n",
       "      <td>1</td>\n",
       "      <td>0</td>\n",
       "      <td>0</td>\n",
       "    </tr>\n",
       "    <tr>\n",
       "      <th>43738</th>\n",
       "      <td>10/10/2019</td>\n",
       "      <td>WLG</td>\n",
       "      <td>2:00 PM</td>\n",
       "      <td>AKL</td>\n",
       "      <td>5:35 PM</td>\n",
       "      <td>3h 35m</td>\n",
       "      <td>1</td>\n",
       "      <td>1h 30m in NSN</td>\n",
       "      <td>Air New Zealand</td>\n",
       "      <td>536</td>\n",
       "      <td>...</td>\n",
       "      <td>0</td>\n",
       "      <td>1</td>\n",
       "      <td>1</td>\n",
       "      <td>0</td>\n",
       "      <td>0</td>\n",
       "      <td>0</td>\n",
       "      <td>0</td>\n",
       "      <td>0</td>\n",
       "      <td>0</td>\n",
       "      <td>0</td>\n",
       "    </tr>\n",
       "    <tr>\n",
       "      <th>137761</th>\n",
       "      <td>29/11/2019</td>\n",
       "      <td>AKL</td>\n",
       "      <td>8:00 PM</td>\n",
       "      <td>NPL</td>\n",
       "      <td>9:25 AM</td>\n",
       "      <td>13h 25m</td>\n",
       "      <td>1</td>\n",
       "      <td>11h 15m in WLG</td>\n",
       "      <td>Air New Zealand</td>\n",
       "      <td>402</td>\n",
       "      <td>...</td>\n",
       "      <td>0</td>\n",
       "      <td>0</td>\n",
       "      <td>0</td>\n",
       "      <td>0</td>\n",
       "      <td>0</td>\n",
       "      <td>0</td>\n",
       "      <td>1</td>\n",
       "      <td>0</td>\n",
       "      <td>0</td>\n",
       "      <td>0</td>\n",
       "    </tr>\n",
       "    <tr>\n",
       "      <th>47810</th>\n",
       "      <td>12/10/2019</td>\n",
       "      <td>WLG</td>\n",
       "      <td>1:35 PM</td>\n",
       "      <td>DUD</td>\n",
       "      <td>5:05 PM</td>\n",
       "      <td>3h 30m</td>\n",
       "      <td>1</td>\n",
       "      <td>1h 25m in CHC</td>\n",
       "      <td>Air New Zealand</td>\n",
       "      <td>433</td>\n",
       "      <td>...</td>\n",
       "      <td>0</td>\n",
       "      <td>1</td>\n",
       "      <td>0</td>\n",
       "      <td>0</td>\n",
       "      <td>1</td>\n",
       "      <td>0</td>\n",
       "      <td>0</td>\n",
       "      <td>0</td>\n",
       "      <td>0</td>\n",
       "      <td>0</td>\n",
       "    </tr>\n",
       "  </tbody>\n",
       "</table>\n",
       "<p>5 rows × 31 columns</p>\n",
       "</div>"
      ],
      "text/plain": [
       "       Date_of_Journey Source  Dep_Time Destination Arrival_Time Duration  \\\n",
       "11110       24/09/2019    ZQN  11:40 AM         NPE      7:50 PM   8h 10m   \n",
       "152933      10/12/2019    WLG  11:30 AM         NSN     12:10 PM      40m   \n",
       "43738       10/10/2019    WLG   2:00 PM         AKL      5:35 PM   3h 35m   \n",
       "137761      29/11/2019    AKL   8:00 PM         NPL      9:25 AM  13h 25m   \n",
       "47810       12/10/2019    WLG   1:35 PM         DUD      5:05 PM   3h 30m   \n",
       "\n",
       "        Total_Stops         Transit          Airline  Price  ...  Source_CHC  \\\n",
       "11110             1   5h 35m in CHC  Air New Zealand    283  ...           0   \n",
       "152933            0               0  Air New Zealand    183  ...           0   \n",
       "43738             1   1h 30m in NSN  Air New Zealand    536  ...           0   \n",
       "137761            1  11h 15m in WLG  Air New Zealand    402  ...           0   \n",
       "47810             1   1h 25m in CHC  Air New Zealand    433  ...           0   \n",
       "\n",
       "        Source_WLG  Destination_AKL  Destination_CHC  Destination_DUD  \\\n",
       "11110            0                0                0                0   \n",
       "152933           1                0                0                0   \n",
       "43738            1                1                0                0   \n",
       "137761           0                0                0                0   \n",
       "47810            1                0                0                1   \n",
       "\n",
       "        Destination_NPE  Destination_NPL  Destination_NSN  Destination_PMR  \\\n",
       "11110                 1                0                0                0   \n",
       "152933                0                0                1                0   \n",
       "43738                 0                0                0                0   \n",
       "137761                0                1                0                0   \n",
       "47810                 0                0                0                0   \n",
       "\n",
       "        Destination_ZQN  \n",
       "11110                 0  \n",
       "152933                0  \n",
       "43738                 0  \n",
       "137761                0  \n",
       "47810                 0  \n",
       "\n",
       "[5 rows x 31 columns]"
      ]
     },
     "execution_count": 47,
     "metadata": {},
     "output_type": "execute_result"
    }
   ],
   "source": [
    "data_test.head()"
   ]
  },
  {
   "cell_type": "markdown",
   "id": "d7708b40",
   "metadata": {},
   "source": [
    "## Feature Selection\n",
    "\n",
    "Finding out the best feature which will contribute and have good relation with target variable.\n",
    "Following are some of the feature selection methods,\n",
    "\n",
    "\n",
    "1. <span style=\"color: purple;\">**heatmap**</span>\n",
    "2. <span style=\"color: purple;\">**feature_importance_**</span>\n",
    "3. <span style=\"color: purple;\">**SelectKBest**</span>"
   ]
  },
  {
   "cell_type": "code",
   "execution_count": 48,
   "id": "cdad6ef3",
   "metadata": {},
   "outputs": [
    {
     "data": {
      "text/plain": [
       "(4533, 30)"
      ]
     },
     "execution_count": 48,
     "metadata": {},
     "output_type": "execute_result"
    }
   ],
   "source": [
    "data_train.shape"
   ]
  },
  {
   "cell_type": "code",
   "execution_count": 49,
   "id": "455f64af",
   "metadata": {},
   "outputs": [
    {
     "data": {
      "text/plain": [
       "Index(['Date_of_Journey', 'Source', 'Dep_Time', 'Destination', 'Arrival_Time',\n",
       "       'Duration', 'Total_Stops', 'Airline', 'Price', 'Journey_day',\n",
       "       'Journey_month', 'Dep_hour', 'Dep_min', 'Arrival_hour', 'Arrival_min',\n",
       "       'Duration_hours', 'Duration_mins', 'Air New Zealand', 'Jetstar',\n",
       "       'Source_AKL', 'Source_CHC', 'Source_WLG', 'Destination_AKL',\n",
       "       'Destination_CHC', 'Destination_DUD', 'Destination_NPE',\n",
       "       'Destination_NPL', 'Destination_NSN', 'Destination_PMR',\n",
       "       'Destination_ZQN'],\n",
       "      dtype='object')"
      ]
     },
     "execution_count": 49,
     "metadata": {},
     "output_type": "execute_result"
    }
   ],
   "source": [
    "data_train.columns"
   ]
  },
  {
   "cell_type": "code",
   "execution_count": 50,
   "id": "696b2ce0",
   "metadata": {
    "scrolled": false
   },
   "outputs": [
    {
     "data": {
      "text/html": [
       "<div>\n",
       "<style scoped>\n",
       "    .dataframe tbody tr th:only-of-type {\n",
       "        vertical-align: middle;\n",
       "    }\n",
       "\n",
       "    .dataframe tbody tr th {\n",
       "        vertical-align: top;\n",
       "    }\n",
       "\n",
       "    .dataframe thead th {\n",
       "        text-align: right;\n",
       "    }\n",
       "</style>\n",
       "<table border=\"1\" class=\"dataframe\">\n",
       "  <thead>\n",
       "    <tr style=\"text-align: right;\">\n",
       "      <th></th>\n",
       "      <th>Total_Stops</th>\n",
       "      <th>Journey_day</th>\n",
       "      <th>Journey_month</th>\n",
       "      <th>Dep_hour</th>\n",
       "      <th>Dep_min</th>\n",
       "      <th>Arrival_hour</th>\n",
       "      <th>Arrival_min</th>\n",
       "      <th>Duration_hours</th>\n",
       "      <th>Duration_mins</th>\n",
       "      <th>Air New Zealand</th>\n",
       "      <th>...</th>\n",
       "      <th>Source_CHC</th>\n",
       "      <th>Source_WLG</th>\n",
       "      <th>Destination_AKL</th>\n",
       "      <th>Destination_CHC</th>\n",
       "      <th>Destination_DUD</th>\n",
       "      <th>Destination_NPE</th>\n",
       "      <th>Destination_NPL</th>\n",
       "      <th>Destination_NSN</th>\n",
       "      <th>Destination_PMR</th>\n",
       "      <th>Destination_ZQN</th>\n",
       "    </tr>\n",
       "  </thead>\n",
       "  <tbody>\n",
       "    <tr>\n",
       "      <th>115553</th>\n",
       "      <td>1</td>\n",
       "      <td>17</td>\n",
       "      <td>11</td>\n",
       "      <td>10</td>\n",
       "      <td>0</td>\n",
       "      <td>19</td>\n",
       "      <td>20</td>\n",
       "      <td>9</td>\n",
       "      <td>20</td>\n",
       "      <td>1</td>\n",
       "      <td>...</td>\n",
       "      <td>0</td>\n",
       "      <td>0</td>\n",
       "      <td>0</td>\n",
       "      <td>0</td>\n",
       "      <td>0</td>\n",
       "      <td>0</td>\n",
       "      <td>0</td>\n",
       "      <td>1</td>\n",
       "      <td>0</td>\n",
       "      <td>0</td>\n",
       "    </tr>\n",
       "    <tr>\n",
       "      <th>8953</th>\n",
       "      <td>1</td>\n",
       "      <td>23</td>\n",
       "      <td>9</td>\n",
       "      <td>14</td>\n",
       "      <td>45</td>\n",
       "      <td>18</td>\n",
       "      <td>25</td>\n",
       "      <td>3</td>\n",
       "      <td>40</td>\n",
       "      <td>1</td>\n",
       "      <td>...</td>\n",
       "      <td>0</td>\n",
       "      <td>1</td>\n",
       "      <td>0</td>\n",
       "      <td>1</td>\n",
       "      <td>0</td>\n",
       "      <td>0</td>\n",
       "      <td>0</td>\n",
       "      <td>0</td>\n",
       "      <td>0</td>\n",
       "      <td>0</td>\n",
       "    </tr>\n",
       "    <tr>\n",
       "      <th>144252</th>\n",
       "      <td>1</td>\n",
       "      <td>3</td>\n",
       "      <td>12</td>\n",
       "      <td>12</td>\n",
       "      <td>35</td>\n",
       "      <td>17</td>\n",
       "      <td>10</td>\n",
       "      <td>4</td>\n",
       "      <td>35</td>\n",
       "      <td>1</td>\n",
       "      <td>...</td>\n",
       "      <td>0</td>\n",
       "      <td>1</td>\n",
       "      <td>0</td>\n",
       "      <td>0</td>\n",
       "      <td>0</td>\n",
       "      <td>0</td>\n",
       "      <td>0</td>\n",
       "      <td>1</td>\n",
       "      <td>0</td>\n",
       "      <td>0</td>\n",
       "    </tr>\n",
       "    <tr>\n",
       "      <th>70032</th>\n",
       "      <td>1</td>\n",
       "      <td>25</td>\n",
       "      <td>10</td>\n",
       "      <td>13</td>\n",
       "      <td>20</td>\n",
       "      <td>21</td>\n",
       "      <td>15</td>\n",
       "      <td>7</td>\n",
       "      <td>55</td>\n",
       "      <td>1</td>\n",
       "      <td>...</td>\n",
       "      <td>0</td>\n",
       "      <td>0</td>\n",
       "      <td>0</td>\n",
       "      <td>1</td>\n",
       "      <td>0</td>\n",
       "      <td>0</td>\n",
       "      <td>0</td>\n",
       "      <td>0</td>\n",
       "      <td>0</td>\n",
       "      <td>0</td>\n",
       "    </tr>\n",
       "    <tr>\n",
       "      <th>78753</th>\n",
       "      <td>1</td>\n",
       "      <td>29</td>\n",
       "      <td>10</td>\n",
       "      <td>20</td>\n",
       "      <td>30</td>\n",
       "      <td>11</td>\n",
       "      <td>10</td>\n",
       "      <td>14</td>\n",
       "      <td>40</td>\n",
       "      <td>1</td>\n",
       "      <td>...</td>\n",
       "      <td>0</td>\n",
       "      <td>0</td>\n",
       "      <td>0</td>\n",
       "      <td>0</td>\n",
       "      <td>0</td>\n",
       "      <td>0</td>\n",
       "      <td>0</td>\n",
       "      <td>0</td>\n",
       "      <td>0</td>\n",
       "      <td>1</td>\n",
       "    </tr>\n",
       "  </tbody>\n",
       "</table>\n",
       "<p>5 rows × 22 columns</p>\n",
       "</div>"
      ],
      "text/plain": [
       "        Total_Stops  Journey_day  Journey_month  Dep_hour  Dep_min  \\\n",
       "115553            1           17             11        10        0   \n",
       "8953              1           23              9        14       45   \n",
       "144252            1            3             12        12       35   \n",
       "70032             1           25             10        13       20   \n",
       "78753             1           29             10        20       30   \n",
       "\n",
       "        Arrival_hour  Arrival_min  Duration_hours  Duration_mins  \\\n",
       "115553            19           20               9             20   \n",
       "8953              18           25               3             40   \n",
       "144252            17           10               4             35   \n",
       "70032             21           15               7             55   \n",
       "78753             11           10              14             40   \n",
       "\n",
       "        Air New Zealand  ...  Source_CHC  Source_WLG  Destination_AKL  \\\n",
       "115553                1  ...           0           0                0   \n",
       "8953                  1  ...           0           1                0   \n",
       "144252                1  ...           0           1                0   \n",
       "70032                 1  ...           0           0                0   \n",
       "78753                 1  ...           0           0                0   \n",
       "\n",
       "        Destination_CHC  Destination_DUD  Destination_NPE  Destination_NPL  \\\n",
       "115553                0                0                0                0   \n",
       "8953                  1                0                0                0   \n",
       "144252                0                0                0                0   \n",
       "70032                 1                0                0                0   \n",
       "78753                 0                0                0                0   \n",
       "\n",
       "        Destination_NSN  Destination_PMR  Destination_ZQN  \n",
       "115553                1                0                0  \n",
       "8953                  0                0                0  \n",
       "144252                1                0                0  \n",
       "70032                 0                0                0  \n",
       "78753                 0                0                1  \n",
       "\n",
       "[5 rows x 22 columns]"
      ]
     },
     "execution_count": 50,
     "metadata": {},
     "output_type": "execute_result"
    }
   ],
   "source": [
    "X = data_train.loc[:, ['Total_Stops', 'Journey_day','Journey_month','Dep_hour', \n",
    "                       'Dep_min', 'Arrival_hour', 'Arrival_min',\n",
    "                       'Duration_hours', 'Duration_mins', 'Air New Zealand', 'Jetstar',\n",
    "                       'Source_AKL', 'Source_CHC', 'Source_WLG', 'Destination_AKL', 'Destination_CHC', 'Destination_DUD',\n",
    "                       'Destination_NPE', 'Destination_NPL', 'Destination_NSN', 'Destination_PMR', 'Destination_ZQN']]\n",
    "X.head()"
   ]
  },
  {
   "cell_type": "code",
   "execution_count": 51,
   "id": "70ba823a",
   "metadata": {},
   "outputs": [
    {
     "data": {
      "text/html": [
       "<div>\n",
       "<style scoped>\n",
       "    .dataframe tbody tr th:only-of-type {\n",
       "        vertical-align: middle;\n",
       "    }\n",
       "\n",
       "    .dataframe tbody tr th {\n",
       "        vertical-align: top;\n",
       "    }\n",
       "\n",
       "    .dataframe thead th {\n",
       "        text-align: right;\n",
       "    }\n",
       "</style>\n",
       "<table border=\"1\" class=\"dataframe\">\n",
       "  <thead>\n",
       "    <tr style=\"text-align: right;\">\n",
       "      <th></th>\n",
       "      <th>Date_of_Journey</th>\n",
       "      <th>Source</th>\n",
       "      <th>Dep_Time</th>\n",
       "      <th>Destination</th>\n",
       "      <th>Arrival_Time</th>\n",
       "      <th>Duration</th>\n",
       "      <th>Total_Stops</th>\n",
       "      <th>Airline</th>\n",
       "      <th>Price</th>\n",
       "      <th>Journey_day</th>\n",
       "      <th>...</th>\n",
       "      <th>Source_CHC</th>\n",
       "      <th>Source_WLG</th>\n",
       "      <th>Destination_AKL</th>\n",
       "      <th>Destination_CHC</th>\n",
       "      <th>Destination_DUD</th>\n",
       "      <th>Destination_NPE</th>\n",
       "      <th>Destination_NPL</th>\n",
       "      <th>Destination_NSN</th>\n",
       "      <th>Destination_PMR</th>\n",
       "      <th>Destination_ZQN</th>\n",
       "    </tr>\n",
       "  </thead>\n",
       "  <tbody>\n",
       "    <tr>\n",
       "      <th>115553</th>\n",
       "      <td>17/11/2019</td>\n",
       "      <td>AKL</td>\n",
       "      <td>10:00 AM</td>\n",
       "      <td>NSN</td>\n",
       "      <td>7:20 PM</td>\n",
       "      <td>9h 20m</td>\n",
       "      <td>1</td>\n",
       "      <td>Air New Zealand</td>\n",
       "      <td>263</td>\n",
       "      <td>17</td>\n",
       "      <td>...</td>\n",
       "      <td>0</td>\n",
       "      <td>0</td>\n",
       "      <td>0</td>\n",
       "      <td>0</td>\n",
       "      <td>0</td>\n",
       "      <td>0</td>\n",
       "      <td>0</td>\n",
       "      <td>1</td>\n",
       "      <td>0</td>\n",
       "      <td>0</td>\n",
       "    </tr>\n",
       "    <tr>\n",
       "      <th>8953</th>\n",
       "      <td>23/09/2019</td>\n",
       "      <td>WLG</td>\n",
       "      <td>2:45 PM</td>\n",
       "      <td>CHC</td>\n",
       "      <td>6:25 PM</td>\n",
       "      <td>3h 40m</td>\n",
       "      <td>1</td>\n",
       "      <td>Air New Zealand</td>\n",
       "      <td>272</td>\n",
       "      <td>23</td>\n",
       "      <td>...</td>\n",
       "      <td>0</td>\n",
       "      <td>1</td>\n",
       "      <td>0</td>\n",
       "      <td>1</td>\n",
       "      <td>0</td>\n",
       "      <td>0</td>\n",
       "      <td>0</td>\n",
       "      <td>0</td>\n",
       "      <td>0</td>\n",
       "      <td>0</td>\n",
       "    </tr>\n",
       "    <tr>\n",
       "      <th>144252</th>\n",
       "      <td>3/12/2019</td>\n",
       "      <td>WLG</td>\n",
       "      <td>12:35 PM</td>\n",
       "      <td>NSN</td>\n",
       "      <td>5:10 PM</td>\n",
       "      <td>4h 35m</td>\n",
       "      <td>1</td>\n",
       "      <td>Air New Zealand</td>\n",
       "      <td>412</td>\n",
       "      <td>3</td>\n",
       "      <td>...</td>\n",
       "      <td>0</td>\n",
       "      <td>1</td>\n",
       "      <td>0</td>\n",
       "      <td>0</td>\n",
       "      <td>0</td>\n",
       "      <td>0</td>\n",
       "      <td>0</td>\n",
       "      <td>1</td>\n",
       "      <td>0</td>\n",
       "      <td>0</td>\n",
       "    </tr>\n",
       "    <tr>\n",
       "      <th>70032</th>\n",
       "      <td>25/10/2019</td>\n",
       "      <td>AKL</td>\n",
       "      <td>1:20 PM</td>\n",
       "      <td>CHC</td>\n",
       "      <td>9:15 PM</td>\n",
       "      <td>7h 55m</td>\n",
       "      <td>1</td>\n",
       "      <td>Air New Zealand</td>\n",
       "      <td>472</td>\n",
       "      <td>25</td>\n",
       "      <td>...</td>\n",
       "      <td>0</td>\n",
       "      <td>0</td>\n",
       "      <td>0</td>\n",
       "      <td>1</td>\n",
       "      <td>0</td>\n",
       "      <td>0</td>\n",
       "      <td>0</td>\n",
       "      <td>0</td>\n",
       "      <td>0</td>\n",
       "      <td>0</td>\n",
       "    </tr>\n",
       "    <tr>\n",
       "      <th>78753</th>\n",
       "      <td>29/10/2019</td>\n",
       "      <td>AKL</td>\n",
       "      <td>8:30 PM</td>\n",
       "      <td>ZQN</td>\n",
       "      <td>11:10 AM</td>\n",
       "      <td>14h 40m</td>\n",
       "      <td>1</td>\n",
       "      <td>Air New Zealand</td>\n",
       "      <td>302</td>\n",
       "      <td>29</td>\n",
       "      <td>...</td>\n",
       "      <td>0</td>\n",
       "      <td>0</td>\n",
       "      <td>0</td>\n",
       "      <td>0</td>\n",
       "      <td>0</td>\n",
       "      <td>0</td>\n",
       "      <td>0</td>\n",
       "      <td>0</td>\n",
       "      <td>0</td>\n",
       "      <td>1</td>\n",
       "    </tr>\n",
       "  </tbody>\n",
       "</table>\n",
       "<p>5 rows × 30 columns</p>\n",
       "</div>"
      ],
      "text/plain": [
       "       Date_of_Journey Source  Dep_Time Destination Arrival_Time Duration  \\\n",
       "115553      17/11/2019    AKL  10:00 AM         NSN      7:20 PM   9h 20m   \n",
       "8953        23/09/2019    WLG   2:45 PM         CHC      6:25 PM   3h 40m   \n",
       "144252       3/12/2019    WLG  12:35 PM         NSN      5:10 PM   4h 35m   \n",
       "70032       25/10/2019    AKL   1:20 PM         CHC      9:15 PM   7h 55m   \n",
       "78753       29/10/2019    AKL   8:30 PM         ZQN     11:10 AM  14h 40m   \n",
       "\n",
       "        Total_Stops          Airline  Price  Journey_day  ...  Source_CHC  \\\n",
       "115553            1  Air New Zealand    263           17  ...           0   \n",
       "8953              1  Air New Zealand    272           23  ...           0   \n",
       "144252            1  Air New Zealand    412            3  ...           0   \n",
       "70032             1  Air New Zealand    472           25  ...           0   \n",
       "78753             1  Air New Zealand    302           29  ...           0   \n",
       "\n",
       "        Source_WLG  Destination_AKL  Destination_CHC  Destination_DUD  \\\n",
       "115553           0                0                0                0   \n",
       "8953             1                0                1                0   \n",
       "144252           1                0                0                0   \n",
       "70032            0                0                1                0   \n",
       "78753            0                0                0                0   \n",
       "\n",
       "        Destination_NPE  Destination_NPL  Destination_NSN  Destination_PMR  \\\n",
       "115553                0                0                1                0   \n",
       "8953                  0                0                0                0   \n",
       "144252                0                0                1                0   \n",
       "70032                 0                0                0                0   \n",
       "78753                 0                0                0                0   \n",
       "\n",
       "        Destination_ZQN  \n",
       "115553                0  \n",
       "8953                  0  \n",
       "144252                0  \n",
       "70032                 0  \n",
       "78753                 1  \n",
       "\n",
       "[5 rows x 30 columns]"
      ]
     },
     "execution_count": 51,
     "metadata": {},
     "output_type": "execute_result"
    }
   ],
   "source": [
    "data_train.head()"
   ]
  },
  {
   "cell_type": "code",
   "execution_count": 52,
   "id": "19ccd6dc",
   "metadata": {},
   "outputs": [
    {
     "data": {
      "text/plain": [
       "115553    263\n",
       "8953      272\n",
       "144252    412\n",
       "70032     472\n",
       "78753     302\n",
       "Name: Price, dtype: int64"
      ]
     },
     "execution_count": 52,
     "metadata": {},
     "output_type": "execute_result"
    }
   ],
   "source": [
    "y = data_train.iloc[:, 8]\n",
    "y.head()"
   ]
  },
  {
   "cell_type": "code",
   "execution_count": 53,
   "id": "a9a3c66f",
   "metadata": {},
   "outputs": [
    {
     "data": {
      "image/png": "[encoded data removed]",
      "text/plain": [
       "<Figure size 1296x1296 with 2 Axes>"
      ]
     },
     "metadata": {},
     "output_type": "display_data"
    }
   ],
   "source": [
    "# Finds correlation between Independent and dependent attributes\n",
    "\n",
    "plt.figure(figsize = (18,18))\n",
    "sns.heatmap(data_train.corr(), annot = True, cmap = \"RdYlGn\")\n",
    "\n",
    "plt.show()"
   ]
  },
  {
   "cell_type": "code",
   "execution_count": 54,
   "id": "c3fcb9e5",
   "metadata": {},
   "outputs": [
    {
     "data": {
      "text/plain": [
       "ExtraTreesRegressor(bootstrap=False, ccp_alpha=0.0, criterion='mse',\n",
       "                    max_depth=None, max_features='auto', max_leaf_nodes=None,\n",
       "                    max_samples=None, min_impurity_decrease=0.0,\n",
       "                    min_impurity_split=None, min_samples_leaf=1,\n",
       "                    min_samples_split=2, min_weight_fraction_leaf=0.0,\n",
       "                    n_estimators=100, n_jobs=None, oob_score=False,\n",
       "                    random_state=None, verbose=0, warm_start=False)"
      ]
     },
     "execution_count": 54,
     "metadata": {},
     "output_type": "execute_result"
    }
   ],
   "source": [
    "# Important feature using ExtraTreesRegressor\n",
    "\n",
    "from sklearn.ensemble import ExtraTreesRegressor\n",
    "selection = ExtraTreesRegressor()\n",
    "selection.fit(X, y)"
   ]
  },
  {
   "cell_type": "code",
   "execution_count": 55,
   "id": "cbb45e03",
   "metadata": {},
   "outputs": [
    {
     "name": "stdout",
     "output_type": "stream",
     "text": [
      "[0.1830513  0.09082201 0.05014392 0.05895734 0.05963496 0.0541794\n",
      " 0.05538115 0.11079189 0.04567991 0.01690348 0.00950495 0.02091146\n",
      " 0.04212505 0.02963529 0.01778669 0.00798146 0.01673878 0.02404501\n",
      " 0.02795183 0.02534263 0.04401351 0.00841799]\n"
     ]
    }
   ],
   "source": [
    "print(selection.feature_importances_)"
   ]
  },
  {
   "cell_type": "code",
   "execution_count": 56,
   "id": "49e4c723",
   "metadata": {},
   "outputs": [
    {
     "data": {
      "image/png": "[encoded data removed]",
      "text/plain": [
       "<Figure size 864x576 with 1 Axes>"
      ]
     },
     "metadata": {},
     "output_type": "display_data"
    }
   ],
   "source": [
    "#plot graph of feature importances for better visualization\n",
    "\n",
    "plt.figure(figsize = (12,8))\n",
    "feat_importances = pd.Series(selection.feature_importances_, index=X.columns)\n",
    "feat_importances.nlargest(20).plot(kind='barh')\n",
    "plt.show()\n"
   ]
  },
  {
   "cell_type": "markdown",
   "id": "84e4b98a",
   "metadata": {},
   "source": [
    "## Fitting model using Random Forest\n",
    "\n",
    "1. Split dataset into train and test set in order to prediction w.r.t X_test\n",
    "2. If needed do scaling of data\n",
    "    * Scaling is not done in Random forest\n",
    "3. Import model\n",
    "4. Fit the data\n",
    "5. Predict w.r.t X_test\n",
    "6. In regression check **RSME** Score\n",
    "7. Plot graph"
   ]
  },
  {
   "cell_type": "code",
   "execution_count": 57,
   "id": "269502d0",
   "metadata": {},
   "outputs": [],
   "source": [
    "from sklearn.model_selection import train_test_split\n",
    "X_train, X_test, y_train, y_test = train_test_split(X, y, test_size = 0.2, random_state = 42)"
   ]
  },
  {
   "cell_type": "code",
   "execution_count": 58,
   "id": "faf728a9",
   "metadata": {},
   "outputs": [
    {
     "data": {
      "text/plain": [
       "RandomForestRegressor(bootstrap=True, ccp_alpha=0.0, criterion='mse',\n",
       "                      max_depth=None, max_features='auto', max_leaf_nodes=None,\n",
       "                      max_samples=None, min_impurity_decrease=0.0,\n",
       "                      min_impurity_split=None, min_samples_leaf=1,\n",
       "                      min_samples_split=2, min_weight_fraction_leaf=0.0,\n",
       "                      n_estimators=100, n_jobs=None, oob_score=False,\n",
       "                      random_state=None, verbose=0, warm_start=False)"
      ]
     },
     "execution_count": 58,
     "metadata": {},
     "output_type": "execute_result"
    }
   ],
   "source": [
    "from sklearn.ensemble import RandomForestRegressor\n",
    "reg_rf = RandomForestRegressor()\n",
    "reg_rf.fit(X_train, y_train)"
   ]
  },
  {
   "cell_type": "code",
   "execution_count": 59,
   "id": "deb0e607",
   "metadata": {},
   "outputs": [],
   "source": [
    "y_pred = reg_rf.predict(X_test)"
   ]
  },
  {
   "cell_type": "code",
   "execution_count": 60,
   "id": "1e08ab8b",
   "metadata": {},
   "outputs": [
    {
     "data": {
      "text/plain": [
       "0.9358460912956018"
      ]
     },
     "execution_count": 60,
     "metadata": {},
     "output_type": "execute_result"
    }
   ],
   "source": [
    "reg_rf.score(X_train, y_train)"
   ]
  },
  {
   "cell_type": "code",
   "execution_count": 61,
   "id": "04d55303",
   "metadata": {},
   "outputs": [
    {
     "data": {
      "text/plain": [
       "0.5580381084423036"
      ]
     },
     "execution_count": 61,
     "metadata": {},
     "output_type": "execute_result"
    }
   ],
   "source": [
    "reg_rf.score(X_test, y_test)"
   ]
  },
  {
   "cell_type": "code",
   "execution_count": 62,
   "id": "e9fcf872",
   "metadata": {},
   "outputs": [
    {
     "name": "stderr",
     "output_type": "stream",
     "text": [
      "C:\\Users\\alexchen\\anaconda3\\lib\\site-packages\\seaborn\\distributions.py:2557: FutureWarning: `distplot` is a deprecated function and will be removed in a future version. Please adapt your code to use either `displot` (a figure-level function with similar flexibility) or `histplot` (an axes-level function for histograms).\n",
      "  warnings.warn(msg, FutureWarning)\n"
     ]
    },
    {
     "data": {
      "image/png": "[encoded data removed]",
      "text/plain": [
       "<Figure size 432x288 with 1 Axes>"
      ]
     },
     "metadata": {},
     "output_type": "display_data"
    }
   ],
   "source": [
    "sns.distplot(y_test-y_pred)\n",
    "plt.show()"
   ]
  },
  {
   "cell_type": "code",
   "execution_count": 63,
   "id": "b0ab837a",
   "metadata": {},
   "outputs": [
    {
     "data": {
      "image/png": "[encoded data removed]",
      "text/plain": [
       "<Figure size 432x288 with 1 Axes>"
      ]
     },
     "metadata": {},
     "output_type": "display_data"
    }
   ],
   "source": [
    "\n",
    "plt.scatter(y_test, y_pred, alpha = 0.5)\n",
    "plt.xlabel(\"y_test\")\n",
    "plt.ylabel(\"y_pred\")\n",
    "plt.show()"
   ]
  },
  {
   "cell_type": "code",
   "execution_count": 64,
   "id": "4d8ae11b",
   "metadata": {},
   "outputs": [],
   "source": [
    "from sklearn import metrics"
   ]
  },
  {
   "cell_type": "code",
   "execution_count": 65,
   "id": "e1bd82b2",
   "metadata": {},
   "outputs": [
    {
     "name": "stdout",
     "output_type": "stream",
     "text": [
      "MAE: 76.40901874310914\n",
      "MSE: 10606.599239250276\n",
      "RMSE: 102.98834516220889\n"
     ]
    }
   ],
   "source": [
    "print('MAE:', metrics.mean_absolute_error(y_test, y_pred))\n",
    "print('MSE:', metrics.mean_squared_error(y_test, y_pred))\n",
    "print('RMSE:', np.sqrt(metrics.mean_squared_error(y_test, y_pred)))\n",
    "RMSE = np.sqrt(metrics.mean_squared_error(y_test, y_pred))"
   ]
  },
  {
   "cell_type": "code",
   "execution_count": 66,
   "id": "f97024cd",
   "metadata": {},
   "outputs": [
    {
     "data": {
      "text/plain": [
       "0.11519949123289584"
      ]
     },
     "execution_count": 66,
     "metadata": {},
     "output_type": "execute_result"
    }
   ],
   "source": [
    "# RMSE/(max(DV)-min(DV))\n",
    "\n",
    "RMSE/(max(y)-min(y))"
   ]
  },
  {
   "cell_type": "markdown",
   "id": "146b80c5",
   "metadata": {},
   "source": [
    "## Hyperparameter Tuning\n",
    "\n",
    "\n",
    "* Choose following method for hyperparameter tuning\n",
    "    1. **RandomizedSearchCV** --> Fast\n",
    "    2. **GridSearchCV**\n",
    "* Assign hyperparameters in form of dictionery\n",
    "* Fit the model\n",
    "* Check best paramters and best score"
   ]
  },
  {
   "cell_type": "code",
   "execution_count": 67,
   "id": "977523f6",
   "metadata": {},
   "outputs": [],
   "source": [
    "from sklearn.model_selection import RandomizedSearchCV"
   ]
  },
  {
   "cell_type": "code",
   "execution_count": 68,
   "id": "1397e31e",
   "metadata": {},
   "outputs": [],
   "source": [
    "#Randomized Search CV\n",
    "\n",
    "# Number of trees in random forest\n",
    "n_estimators = [int(x) for x in np.linspace(start = 100, stop = 1200, num = 12)]\n",
    "# Number of features to consider at every split\n",
    "max_features = ['auto', 'sqrt']\n",
    "# Maximum number of levels in tree\n",
    "max_depth = [int(x) for x in np.linspace(5, 30, num = 6)]\n",
    "# Minimum number of samples required to split a node\n",
    "min_samples_split = [2, 5, 10, 15, 100]\n",
    "# Minimum number of samples required at each leaf node\n",
    "min_samples_leaf = [1, 2, 5, 10]"
   ]
  },
  {
   "cell_type": "code",
   "execution_count": 69,
   "id": "feaa5b0b",
   "metadata": {},
   "outputs": [],
   "source": [
    "# Create the random grid\n",
    "\n",
    "random_grid = {'n_estimators': n_estimators,\n",
    "               'max_features': max_features,\n",
    "               'max_depth': max_depth,\n",
    "               'min_samples_split': min_samples_split,\n",
    "               'min_samples_leaf': min_samples_leaf}"
   ]
  },
  {
   "cell_type": "code",
   "execution_count": 70,
   "id": "b60d6b63",
   "metadata": {},
   "outputs": [],
   "source": [
    "# Random search of parameters, using 5 fold cross validation, \n",
    "# search across 100 different combinations\n",
    "rf_random = RandomizedSearchCV(estimator = reg_rf, param_distributions = random_grid,scoring='neg_mean_squared_error', n_iter = 10, cv = 5, verbose=2, random_state=42, n_jobs = 1)"
   ]
  },
  {
   "cell_type": "code",
   "execution_count": 71,
   "id": "611406be",
   "metadata": {
    "scrolled": false
   },
   "outputs": [
    {
     "name": "stdout",
     "output_type": "stream",
     "text": [
      "Fitting 5 folds for each of 10 candidates, totalling 50 fits\n",
      "[CV] n_estimators=900, min_samples_split=5, min_samples_leaf=5, max_features=sqrt, max_depth=10 \n",
      "[CV]  n_estimators=900, min_samples_split=5, min_samples_leaf=5, max_features=sqrt, max_depth=10, total=   2.2s\n",
      "[CV] n_estimators=900, min_samples_split=5, min_samples_leaf=5, max_features=sqrt, max_depth=10 \n"
     ]
    },
    {
     "name": "stderr",
     "output_type": "stream",
     "text": [
      "[Parallel(n_jobs=1)]: Done   1 out of   1 | elapsed:    2.1s remaining:    0.0s\n"
     ]
    },
    {
     "name": "stdout",
     "output_type": "stream",
     "text": [
      "[CV]  n_estimators=900, min_samples_split=5, min_samples_leaf=5, max_features=sqrt, max_depth=10, total=   2.2s\n",
      "[CV] n_estimators=900, min_samples_split=5, min_samples_leaf=5, max_features=sqrt, max_depth=10 \n",
      "[CV]  n_estimators=900, min_samples_split=5, min_samples_leaf=5, max_features=sqrt, max_depth=10, total=   2.3s\n",
      "[CV] n_estimators=900, min_samples_split=5, min_samples_leaf=5, max_features=sqrt, max_depth=10 \n",
      "[CV]  n_estimators=900, min_samples_split=5, min_samples_leaf=5, max_features=sqrt, max_depth=10, total=   2.3s\n",
      "[CV] n_estimators=900, min_samples_split=5, min_samples_leaf=5, max_features=sqrt, max_depth=10 \n",
      "[CV]  n_estimators=900, min_samples_split=5, min_samples_leaf=5, max_features=sqrt, max_depth=10, total=   2.2s\n",
      "[CV] n_estimators=1100, min_samples_split=10, min_samples_leaf=2, max_features=sqrt, max_depth=15 \n",
      "[CV]  n_estimators=1100, min_samples_split=10, min_samples_leaf=2, max_features=sqrt, max_depth=15, total=   3.1s\n",
      "[CV] n_estimators=1100, min_samples_split=10, min_samples_leaf=2, max_features=sqrt, max_depth=15 \n",
      "[CV]  n_estimators=1100, min_samples_split=10, min_samples_leaf=2, max_features=sqrt, max_depth=15, total=   3.1s\n",
      "[CV] n_estimators=1100, min_samples_split=10, min_samples_leaf=2, max_features=sqrt, max_depth=15 \n",
      "[CV]  n_estimators=1100, min_samples_split=10, min_samples_leaf=2, max_features=sqrt, max_depth=15, total=   3.2s\n",
      "[CV] n_estimators=1100, min_samples_split=10, min_samples_leaf=2, max_features=sqrt, max_depth=15 \n",
      "[CV]  n_estimators=1100, min_samples_split=10, min_samples_leaf=2, max_features=sqrt, max_depth=15, total=   3.2s\n",
      "[CV] n_estimators=1100, min_samples_split=10, min_samples_leaf=2, max_features=sqrt, max_depth=15 \n",
      "[CV]  n_estimators=1100, min_samples_split=10, min_samples_leaf=2, max_features=sqrt, max_depth=15, total=   3.3s\n",
      "[CV] n_estimators=300, min_samples_split=100, min_samples_leaf=5, max_features=auto, max_depth=15 \n",
      "[CV]  n_estimators=300, min_samples_split=100, min_samples_leaf=5, max_features=auto, max_depth=15, total=   1.6s\n",
      "[CV] n_estimators=300, min_samples_split=100, min_samples_leaf=5, max_features=auto, max_depth=15 \n",
      "[CV]  n_estimators=300, min_samples_split=100, min_samples_leaf=5, max_features=auto, max_depth=15, total=   1.5s\n",
      "[CV] n_estimators=300, min_samples_split=100, min_samples_leaf=5, max_features=auto, max_depth=15 \n",
      "[CV]  n_estimators=300, min_samples_split=100, min_samples_leaf=5, max_features=auto, max_depth=15, total=   1.6s\n",
      "[CV] n_estimators=300, min_samples_split=100, min_samples_leaf=5, max_features=auto, max_depth=15 \n",
      "[CV]  n_estimators=300, min_samples_split=100, min_samples_leaf=5, max_features=auto, max_depth=15, total=   1.5s\n",
      "[CV] n_estimators=300, min_samples_split=100, min_samples_leaf=5, max_features=auto, max_depth=15 \n",
      "[CV]  n_estimators=300, min_samples_split=100, min_samples_leaf=5, max_features=auto, max_depth=15, total=   1.5s\n",
      "[CV] n_estimators=400, min_samples_split=5, min_samples_leaf=5, max_features=auto, max_depth=15 \n",
      "[CV]  n_estimators=400, min_samples_split=5, min_samples_leaf=5, max_features=auto, max_depth=15, total=   2.9s\n",
      "[CV] n_estimators=400, min_samples_split=5, min_samples_leaf=5, max_features=auto, max_depth=15 \n",
      "[CV]  n_estimators=400, min_samples_split=5, min_samples_leaf=5, max_features=auto, max_depth=15, total=   3.0s\n",
      "[CV] n_estimators=400, min_samples_split=5, min_samples_leaf=5, max_features=auto, max_depth=15 \n",
      "[CV]  n_estimators=400, min_samples_split=5, min_samples_leaf=5, max_features=auto, max_depth=15, total=   2.8s\n",
      "[CV] n_estimators=400, min_samples_split=5, min_samples_leaf=5, max_features=auto, max_depth=15 \n",
      "[CV]  n_estimators=400, min_samples_split=5, min_samples_leaf=5, max_features=auto, max_depth=15, total=   2.8s\n",
      "[CV] n_estimators=400, min_samples_split=5, min_samples_leaf=5, max_features=auto, max_depth=15 \n",
      "[CV]  n_estimators=400, min_samples_split=5, min_samples_leaf=5, max_features=auto, max_depth=15, total=   2.8s\n",
      "[CV] n_estimators=700, min_samples_split=5, min_samples_leaf=10, max_features=auto, max_depth=20 \n",
      "[CV]  n_estimators=700, min_samples_split=5, min_samples_leaf=10, max_features=auto, max_depth=20, total=   4.2s\n",
      "[CV] n_estimators=700, min_samples_split=5, min_samples_leaf=10, max_features=auto, max_depth=20 \n",
      "[CV]  n_estimators=700, min_samples_split=5, min_samples_leaf=10, max_features=auto, max_depth=20, total=   4.5s\n",
      "[CV] n_estimators=700, min_samples_split=5, min_samples_leaf=10, max_features=auto, max_depth=20 \n",
      "[CV]  n_estimators=700, min_samples_split=5, min_samples_leaf=10, max_features=auto, max_depth=20, total=   4.1s\n",
      "[CV] n_estimators=700, min_samples_split=5, min_samples_leaf=10, max_features=auto, max_depth=20 \n",
      "[CV]  n_estimators=700, min_samples_split=5, min_samples_leaf=10, max_features=auto, max_depth=20, total=   4.2s\n",
      "[CV] n_estimators=700, min_samples_split=5, min_samples_leaf=10, max_features=auto, max_depth=20 \n",
      "[CV]  n_estimators=700, min_samples_split=5, min_samples_leaf=10, max_features=auto, max_depth=20, total=   4.2s\n",
      "[CV] n_estimators=1000, min_samples_split=2, min_samples_leaf=1, max_features=sqrt, max_depth=25 \n",
      "[CV]  n_estimators=1000, min_samples_split=2, min_samples_leaf=1, max_features=sqrt, max_depth=25, total=   4.6s\n",
      "[CV] n_estimators=1000, min_samples_split=2, min_samples_leaf=1, max_features=sqrt, max_depth=25 \n",
      "[CV]  n_estimators=1000, min_samples_split=2, min_samples_leaf=1, max_features=sqrt, max_depth=25, total=   4.4s\n",
      "[CV] n_estimators=1000, min_samples_split=2, min_samples_leaf=1, max_features=sqrt, max_depth=25 \n",
      "[CV]  n_estimators=1000, min_samples_split=2, min_samples_leaf=1, max_features=sqrt, max_depth=25, total=   4.5s\n",
      "[CV] n_estimators=1000, min_samples_split=2, min_samples_leaf=1, max_features=sqrt, max_depth=25 \n",
      "[CV]  n_estimators=1000, min_samples_split=2, min_samples_leaf=1, max_features=sqrt, max_depth=25, total=   4.5s\n",
      "[CV] n_estimators=1000, min_samples_split=2, min_samples_leaf=1, max_features=sqrt, max_depth=25 \n",
      "[CV]  n_estimators=1000, min_samples_split=2, min_samples_leaf=1, max_features=sqrt, max_depth=25, total=   4.5s\n",
      "[CV] n_estimators=1100, min_samples_split=15, min_samples_leaf=10, max_features=sqrt, max_depth=5 \n",
      "[CV]  n_estimators=1100, min_samples_split=15, min_samples_leaf=10, max_features=sqrt, max_depth=5, total=   1.9s\n",
      "[CV] n_estimators=1100, min_samples_split=15, min_samples_leaf=10, max_features=sqrt, max_depth=5 \n",
      "[CV]  n_estimators=1100, min_samples_split=15, min_samples_leaf=10, max_features=sqrt, max_depth=5, total=   1.8s\n",
      "[CV] n_estimators=1100, min_samples_split=15, min_samples_leaf=10, max_features=sqrt, max_depth=5 \n",
      "[CV]  n_estimators=1100, min_samples_split=15, min_samples_leaf=10, max_features=sqrt, max_depth=5, total=   1.9s\n",
      "[CV] n_estimators=1100, min_samples_split=15, min_samples_leaf=10, max_features=sqrt, max_depth=5 \n",
      "[CV]  n_estimators=1100, min_samples_split=15, min_samples_leaf=10, max_features=sqrt, max_depth=5, total=   1.9s\n",
      "[CV] n_estimators=1100, min_samples_split=15, min_samples_leaf=10, max_features=sqrt, max_depth=5 \n",
      "[CV]  n_estimators=1100, min_samples_split=15, min_samples_leaf=10, max_features=sqrt, max_depth=5, total=   1.9s\n",
      "[CV] n_estimators=300, min_samples_split=15, min_samples_leaf=1, max_features=sqrt, max_depth=15 \n",
      "[CV]  n_estimators=300, min_samples_split=15, min_samples_leaf=1, max_features=sqrt, max_depth=15, total=   0.8s\n",
      "[CV] n_estimators=300, min_samples_split=15, min_samples_leaf=1, max_features=sqrt, max_depth=15 \n",
      "[CV]  n_estimators=300, min_samples_split=15, min_samples_leaf=1, max_features=sqrt, max_depth=15, total=   0.8s\n",
      "[CV] n_estimators=300, min_samples_split=15, min_samples_leaf=1, max_features=sqrt, max_depth=15 \n",
      "[CV]  n_estimators=300, min_samples_split=15, min_samples_leaf=1, max_features=sqrt, max_depth=15, total=   0.9s\n",
      "[CV] n_estimators=300, min_samples_split=15, min_samples_leaf=1, max_features=sqrt, max_depth=15 \n",
      "[CV]  n_estimators=300, min_samples_split=15, min_samples_leaf=1, max_features=sqrt, max_depth=15, total=   0.8s\n",
      "[CV] n_estimators=300, min_samples_split=15, min_samples_leaf=1, max_features=sqrt, max_depth=15 \n",
      "[CV]  n_estimators=300, min_samples_split=15, min_samples_leaf=1, max_features=sqrt, max_depth=15, total=   0.8s\n",
      "[CV] n_estimators=700, min_samples_split=10, min_samples_leaf=2, max_features=sqrt, max_depth=5 \n"
     ]
    },
    {
     "name": "stdout",
     "output_type": "stream",
     "text": [
      "[CV]  n_estimators=700, min_samples_split=10, min_samples_leaf=2, max_features=sqrt, max_depth=5, total=   1.2s\n",
      "[CV] n_estimators=700, min_samples_split=10, min_samples_leaf=2, max_features=sqrt, max_depth=5 \n",
      "[CV]  n_estimators=700, min_samples_split=10, min_samples_leaf=2, max_features=sqrt, max_depth=5, total=   1.2s\n",
      "[CV] n_estimators=700, min_samples_split=10, min_samples_leaf=2, max_features=sqrt, max_depth=5 \n",
      "[CV]  n_estimators=700, min_samples_split=10, min_samples_leaf=2, max_features=sqrt, max_depth=5, total=   1.2s\n",
      "[CV] n_estimators=700, min_samples_split=10, min_samples_leaf=2, max_features=sqrt, max_depth=5 \n",
      "[CV]  n_estimators=700, min_samples_split=10, min_samples_leaf=2, max_features=sqrt, max_depth=5, total=   1.2s\n",
      "[CV] n_estimators=700, min_samples_split=10, min_samples_leaf=2, max_features=sqrt, max_depth=5 \n",
      "[CV]  n_estimators=700, min_samples_split=10, min_samples_leaf=2, max_features=sqrt, max_depth=5, total=   1.2s\n",
      "[CV] n_estimators=700, min_samples_split=15, min_samples_leaf=1, max_features=auto, max_depth=20 \n",
      "[CV]  n_estimators=700, min_samples_split=15, min_samples_leaf=1, max_features=auto, max_depth=20, total=   5.2s\n",
      "[CV] n_estimators=700, min_samples_split=15, min_samples_leaf=1, max_features=auto, max_depth=20 \n",
      "[CV]  n_estimators=700, min_samples_split=15, min_samples_leaf=1, max_features=auto, max_depth=20, total=   5.1s\n",
      "[CV] n_estimators=700, min_samples_split=15, min_samples_leaf=1, max_features=auto, max_depth=20 \n",
      "[CV]  n_estimators=700, min_samples_split=15, min_samples_leaf=1, max_features=auto, max_depth=20, total=   4.9s\n",
      "[CV] n_estimators=700, min_samples_split=15, min_samples_leaf=1, max_features=auto, max_depth=20 \n",
      "[CV]  n_estimators=700, min_samples_split=15, min_samples_leaf=1, max_features=auto, max_depth=20, total=   4.9s\n",
      "[CV] n_estimators=700, min_samples_split=15, min_samples_leaf=1, max_features=auto, max_depth=20 \n",
      "[CV]  n_estimators=700, min_samples_split=15, min_samples_leaf=1, max_features=auto, max_depth=20, total=   5.0s\n"
     ]
    },
    {
     "name": "stderr",
     "output_type": "stream",
     "text": [
      "[Parallel(n_jobs=1)]: Done  50 out of  50 | elapsed:  2.3min finished\n"
     ]
    },
    {
     "data": {
      "text/plain": [
       "RandomizedSearchCV(cv=5, error_score=nan,\n",
       "                   estimator=RandomForestRegressor(bootstrap=True,\n",
       "                                                   ccp_alpha=0.0,\n",
       "                                                   criterion='mse',\n",
       "                                                   max_depth=None,\n",
       "                                                   max_features='auto',\n",
       "                                                   max_leaf_nodes=None,\n",
       "                                                   max_samples=None,\n",
       "                                                   min_impurity_decrease=0.0,\n",
       "                                                   min_impurity_split=None,\n",
       "                                                   min_samples_leaf=1,\n",
       "                                                   min_samples_split=2,\n",
       "                                                   min_weight_fraction_leaf=0.0,\n",
       "                                                   n_estimators=100,\n",
       "                                                   n_jobs=None, oob_score=Fals...\n",
       "                   iid='deprecated', n_iter=10, n_jobs=1,\n",
       "                   param_distributions={'max_depth': [5, 10, 15, 20, 25, 30],\n",
       "                                        'max_features': ['auto', 'sqrt'],\n",
       "                                        'min_samples_leaf': [1, 2, 5, 10],\n",
       "                                        'min_samples_split': [2, 5, 10, 15,\n",
       "                                                              100],\n",
       "                                        'n_estimators': [100, 200, 300, 400,\n",
       "                                                         500, 600, 700, 800,\n",
       "                                                         900, 1000, 1100,\n",
       "                                                         1200]},\n",
       "                   pre_dispatch='2*n_jobs', random_state=42, refit=True,\n",
       "                   return_train_score=False, scoring='neg_mean_squared_error',\n",
       "                   verbose=2)"
      ]
     },
     "execution_count": 71,
     "metadata": {},
     "output_type": "execute_result"
    }
   ],
   "source": [
    "rf_random.fit(X_train,y_train)"
   ]
  },
  {
   "cell_type": "code",
   "execution_count": 72,
   "id": "efc41630",
   "metadata": {},
   "outputs": [
    {
     "data": {
      "text/plain": [
       "{'n_estimators': 1000,\n",
       " 'min_samples_split': 2,\n",
       " 'min_samples_leaf': 1,\n",
       " 'max_features': 'sqrt',\n",
       " 'max_depth': 25}"
      ]
     },
     "execution_count": 72,
     "metadata": {},
     "output_type": "execute_result"
    }
   ],
   "source": [
    "rf_random.best_params_"
   ]
  },
  {
   "cell_type": "code",
   "execution_count": 73,
   "id": "bfb9c676",
   "metadata": {},
   "outputs": [],
   "source": [
    "prediction = rf_random.predict(X_test)"
   ]
  },
  {
   "cell_type": "code",
   "execution_count": 74,
   "id": "40e367e5",
   "metadata": {},
   "outputs": [
    {
     "name": "stderr",
     "output_type": "stream",
     "text": [
      "C:\\Users\\alexchen\\anaconda3\\lib\\site-packages\\seaborn\\distributions.py:2557: FutureWarning: `distplot` is a deprecated function and will be removed in a future version. Please adapt your code to use either `displot` (a figure-level function with similar flexibility) or `histplot` (an axes-level function for histograms).\n",
      "  warnings.warn(msg, FutureWarning)\n"
     ]
    },
    {
     "data": {
      "image/png": "[encoded data removed]",
      "text/plain": [
       "<Figure size 576x576 with 1 Axes>"
      ]
     },
     "metadata": {},
     "output_type": "display_data"
    }
   ],
   "source": [
    "plt.figure(figsize = (8,8))\n",
    "sns.distplot(y_test-prediction)\n",
    "plt.show()"
   ]
  },
  {
   "cell_type": "code",
   "execution_count": 75,
   "id": "b917413e",
   "metadata": {},
   "outputs": [
    {
     "data": {
      "image/png": "[encoded data removed]",
      "text/plain": [
       "<Figure size 576x576 with 1 Axes>"
      ]
     },
     "metadata": {},
     "output_type": "display_data"
    }
   ],
   "source": [
    "plt.figure(figsize = (8,8))\n",
    "plt.scatter(y_test, prediction, alpha = 0.5)\n",
    "plt.xlabel(\"y_test\")\n",
    "plt.ylabel(\"y_pred\")\n",
    "plt.show()"
   ]
  },
  {
   "cell_type": "code",
   "execution_count": 76,
   "id": "667c486f",
   "metadata": {},
   "outputs": [
    {
     "name": "stdout",
     "output_type": "stream",
     "text": [
      "MAE: 77.17451748127766\n",
      "MSE: 10405.810137504983\n",
      "RMSE: 102.0088728371458\n"
     ]
    }
   ],
   "source": [
    "print('MAE:', metrics.mean_absolute_error(y_test, prediction))\n",
    "print('MSE:', metrics.mean_squared_error(y_test, prediction))\n",
    "print('RMSE:', np.sqrt(metrics.mean_squared_error(y_test, prediction)))"
   ]
  },
  {
   "cell_type": "markdown",
   "id": "a7c4d837",
   "metadata": {},
   "source": [
    "## Save the model to reuse it again\n"
   ]
  },
  {
   "cell_type": "code",
   "execution_count": 77,
   "id": "09bd5995",
   "metadata": {},
   "outputs": [],
   "source": [
    "import pickle\n",
    "# open a file, where you ant to store the data\n",
    "file = open('flight_rf.pkl','wb')\n",
    "\n",
    "# dump information to that file\n",
    "pickle.dump(reg_rf, file)"
   ]
  },
  {
   "cell_type": "code",
   "execution_count": 78,
   "id": "333c2e1c",
   "metadata": {},
   "outputs": [],
   "source": [
    "model = open('flight_rf.pkl', 'rb')\n",
    "forest = pickle.load(model)"
   ]
  },
  {
   "cell_type": "code",
   "execution_count": 79,
   "id": "21887eda",
   "metadata": {},
   "outputs": [],
   "source": [
    "y_prediction = forest.predict(X_test)"
   ]
  },
  {
   "cell_type": "code",
   "execution_count": 80,
   "id": "b0f88168",
   "metadata": {},
   "outputs": [
    {
     "data": {
      "text/plain": [
       "0.5580381084423036"
      ]
     },
     "execution_count": 80,
     "metadata": {},
     "output_type": "execute_result"
    }
   ],
   "source": [
    "#R-square (affected by data size)\n",
    "metrics.r2_score(y_test, y_prediction)"
   ]
  },
  {
   "cell_type": "code",
   "execution_count": null,
   "id": "9d6b84d0",
   "metadata": {},
   "outputs": [],
   "source": []
  }
 ],
 "metadata": {
  "kernelspec": {
   "display_name": "Python 3",
   "language": "python",
   "name": "python3"
  },
  "language_info": {
   "codemirror_mode": {
    "name": "ipython",
    "version": 3
   },
   "file_extension": ".py",
   "mimetype": "text/x-python",
   "name": "python",
   "nbconvert_exporter": "python",
   "pygments_lexer": "ipython3",
   "version": "3.8.8"
  }
 },
 "nbformat": 4,
 "nbformat_minor": 5
}
